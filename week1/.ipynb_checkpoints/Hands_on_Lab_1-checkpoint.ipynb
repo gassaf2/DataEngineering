{
  "nbformat": 4,
  "nbformat_minor": 0,
  "metadata": {
    "colab": {
      "provenance": []
    },
    "kernelspec": {
      "name": "python3",
      "display_name": "Python 3"
    },
    "language_info": {
      "name": "python"
    }
  },
  "cells": [
    {
      "cell_type": "markdown",
      "source": [
        "# **Week 1 Hands-on Lab: Data Visualization using Dash**\n",
        "\n",
        "\n"
      ],
      "metadata": {
        "id": "br0Qd7WyYBcq"
      }
    },
    {
      "cell_type": "markdown",
      "source": [
        "**Introduction**\n",
        "This notebook will guide you through building an interactive dashboard using the Python Dash framework. Dash allows you to create interactive, web-based visualizations, integrating charts and graphs with user inputs like dropdowns and sliders.\n",
        "\n",
        "We will:\n",
        "- Use the Gapminder dataset, which tracks global life expectancy, GDP, and population data across countries and years.\n",
        "- Create a dynamic dashboard that allows users to explore this data interactively.\n",
        "\n",
        "Let's get started!\n",
        "\n",
        "---"
      ],
      "metadata": {
        "id": "DGSzwClYbFQ7"
      }
    },
    {
      "cell_type": "markdown",
      "source": [
        "**Step 1: Install Required Libraries**\n",
        "To begin, we need to install the necessary Python libraries for our project. These include:\n",
        "- **Dash**: The core library for building interactive web applications.\n",
        "- **Dash Bootstrap Components**: An optional library to style the layout (provides pre-built styles).\n",
        "- **Plotly**: A powerful data visualization library used to create interactive plots.\n",
        "- **Pandas**: Used for data manipulation and analysis.\n",
        "\n",
        "Run the following code to install these libraries:"
      ],
      "metadata": {
        "id": "Z4TcZkeSbNOo"
      }
    },
    {
      "cell_type": "code",
      "source": [
        "!pip install dash dash-bootstrap-components pandas plotly"
      ],
      "metadata": {
        "colab": {
          "base_uri": "https://localhost:8080/"
        },
        "id": "trc-Avg_bUc4",
        "outputId": "9bc71967-ef21-4c1e-dd26-d269606b2c55"
      },
      "execution_count": null,
      "outputs": [
        {
          "output_type": "stream",
          "name": "stdout",
          "text": [
            "Collecting dash\n",
            "  Downloading dash-2.18.0-py3-none-any.whl.metadata (10 kB)\n",
            "Collecting dash-bootstrap-components\n",
            "  Downloading dash_bootstrap_components-1.6.0-py3-none-any.whl.metadata (5.2 kB)\n",
            "Requirement already satisfied: pandas in /usr/local/lib/python3.10/dist-packages (2.1.4)\n",
            "Requirement already satisfied: plotly in /usr/local/lib/python3.10/dist-packages (5.15.0)\n",
            "Requirement already satisfied: Flask<3.1,>=1.0.4 in /usr/local/lib/python3.10/dist-packages (from dash) (2.2.5)\n",
            "Requirement already satisfied: Werkzeug<3.1 in /usr/local/lib/python3.10/dist-packages (from dash) (3.0.4)\n",
            "Collecting dash-html-components==2.0.0 (from dash)\n",
            "  Downloading dash_html_components-2.0.0-py3-none-any.whl.metadata (3.8 kB)\n",
            "Collecting dash-core-components==2.0.0 (from dash)\n",
            "  Downloading dash_core_components-2.0.0-py3-none-any.whl.metadata (2.9 kB)\n",
            "Collecting dash-table==5.0.0 (from dash)\n",
            "  Downloading dash_table-5.0.0-py3-none-any.whl.metadata (2.4 kB)\n",
            "Requirement already satisfied: importlib-metadata in /usr/local/lib/python3.10/dist-packages (from dash) (8.4.0)\n",
            "Requirement already satisfied: typing-extensions>=4.1.1 in /usr/local/lib/python3.10/dist-packages (from dash) (4.12.2)\n",
            "Requirement already satisfied: requests in /usr/local/lib/python3.10/dist-packages (from dash) (2.32.3)\n",
            "Collecting retrying (from dash)\n",
            "  Downloading retrying-1.3.4-py3-none-any.whl.metadata (6.9 kB)\n",
            "Requirement already satisfied: nest-asyncio in /usr/local/lib/python3.10/dist-packages (from dash) (1.6.0)\n",
            "Requirement already satisfied: setuptools in /usr/local/lib/python3.10/dist-packages (from dash) (71.0.4)\n",
            "Requirement already satisfied: numpy<2,>=1.22.4 in /usr/local/lib/python3.10/dist-packages (from pandas) (1.26.4)\n",
            "Requirement already satisfied: python-dateutil>=2.8.2 in /usr/local/lib/python3.10/dist-packages (from pandas) (2.8.2)\n",
            "Requirement already satisfied: pytz>=2020.1 in /usr/local/lib/python3.10/dist-packages (from pandas) (2024.1)\n",
            "Requirement already satisfied: tzdata>=2022.1 in /usr/local/lib/python3.10/dist-packages (from pandas) (2024.1)\n",
            "Requirement already satisfied: tenacity>=6.2.0 in /usr/local/lib/python3.10/dist-packages (from plotly) (9.0.0)\n",
            "Requirement already satisfied: packaging in /usr/local/lib/python3.10/dist-packages (from plotly) (24.1)\n",
            "Requirement already satisfied: Jinja2>=3.0 in /usr/local/lib/python3.10/dist-packages (from Flask<3.1,>=1.0.4->dash) (3.1.4)\n",
            "Requirement already satisfied: itsdangerous>=2.0 in /usr/local/lib/python3.10/dist-packages (from Flask<3.1,>=1.0.4->dash) (2.2.0)\n",
            "Requirement already satisfied: click>=8.0 in /usr/local/lib/python3.10/dist-packages (from Flask<3.1,>=1.0.4->dash) (8.1.7)\n",
            "Requirement already satisfied: six>=1.5 in /usr/local/lib/python3.10/dist-packages (from python-dateutil>=2.8.2->pandas) (1.16.0)\n",
            "Requirement already satisfied: MarkupSafe>=2.1.1 in /usr/local/lib/python3.10/dist-packages (from Werkzeug<3.1->dash) (2.1.5)\n",
            "Requirement already satisfied: zipp>=0.5 in /usr/local/lib/python3.10/dist-packages (from importlib-metadata->dash) (3.20.1)\n",
            "Requirement already satisfied: charset-normalizer<4,>=2 in /usr/local/lib/python3.10/dist-packages (from requests->dash) (3.3.2)\n",
            "Requirement already satisfied: idna<4,>=2.5 in /usr/local/lib/python3.10/dist-packages (from requests->dash) (3.8)\n",
            "Requirement already satisfied: urllib3<3,>=1.21.1 in /usr/local/lib/python3.10/dist-packages (from requests->dash) (2.0.7)\n",
            "Requirement already satisfied: certifi>=2017.4.17 in /usr/local/lib/python3.10/dist-packages (from requests->dash) (2024.8.30)\n",
            "Downloading dash-2.18.0-py3-none-any.whl (7.5 MB)\n",
            "\u001b[2K   \u001b[90m━━━━━━━━━━━━━━━━━━━━━━━━━━━━━━━━━━━━━━━━\u001b[0m \u001b[32m7.5/7.5 MB\u001b[0m \u001b[31m51.2 MB/s\u001b[0m eta \u001b[36m0:00:00\u001b[0m\n",
            "\u001b[?25hDownloading dash_core_components-2.0.0-py3-none-any.whl (3.8 kB)\n",
            "Downloading dash_html_components-2.0.0-py3-none-any.whl (4.1 kB)\n",
            "Downloading dash_table-5.0.0-py3-none-any.whl (3.9 kB)\n",
            "Downloading dash_bootstrap_components-1.6.0-py3-none-any.whl (222 kB)\n",
            "\u001b[2K   \u001b[90m━━━━━━━━━━━━━━━━━━━━━━━━━━━━━━━━━━━━━━━━\u001b[0m \u001b[32m222.5/222.5 kB\u001b[0m \u001b[31m16.0 MB/s\u001b[0m eta \u001b[36m0:00:00\u001b[0m\n",
            "\u001b[?25hDownloading retrying-1.3.4-py3-none-any.whl (11 kB)\n",
            "Installing collected packages: dash-table, dash-html-components, dash-core-components, retrying, dash, dash-bootstrap-components\n",
            "Successfully installed dash-2.18.0 dash-bootstrap-components-1.6.0 dash-core-components-2.0.0 dash-html-components-2.0.0 dash-table-5.0.0 retrying-1.3.4\n"
          ]
        }
      ]
    },
    {
      "cell_type": "markdown",
      "source": [
        "**Step 2: Import the Libraries**\n",
        "\n",
        "Next, we'll import the libraries we just installed. These will allow us to load the dataset, build the layout, and create interactive visualizations."
      ],
      "metadata": {
        "id": "w2n6gRvjbex1"
      }
    },
    {
      "cell_type": "code",
      "source": [
        "import dash\n",
        "import dash_core_components as dcc\n",
        "import dash_html_components as html\n",
        "from dash.dependencies import Input, Output\n",
        "import plotly.express as px\n",
        "import pandas as pd"
      ],
      "metadata": {
        "id": "gjbf96vrbouV"
      },
      "execution_count": null,
      "outputs": []
    },
    {
      "cell_type": "markdown",
      "source": [
        "- dash: Core Dash library for building the app.\n",
        "- dash_core_components and dash_html_components: Used to create interactive controls like dropdowns and HTML elements for the layout.\n",
        "- plotly.express: Simplified interface for creating visualizations.\n",
        "- pandas: For data handling."
      ],
      "metadata": {
        "id": "eefOpbGtbva5"
      }
    },
    {
      "cell_type": "markdown",
      "source": [
        "**Step 3: Load the Dataset**\n",
        "\n",
        "For this lab, we will use the **Gapminder dataset**, which contains information about life expectancy, GDP, and population by country across several years.\n",
        "\n",
        "We'll load the data using Pandas and inspect the first few rows.\n",
        "\n"
      ],
      "metadata": {
        "id": "fYJ8-rphb8jc"
      }
    },
    {
      "cell_type": "code",
      "source": [
        "# Load the dataset\n",
        "df = px.data.gapminder()\n",
        "\n",
        "# Display the first few rows of the dataset\n",
        "df.head()"
      ],
      "metadata": {
        "id": "AoIKpMKZcHVV"
      },
      "execution_count": null,
      "outputs": []
    },
    {
      "cell_type": "markdown",
      "source": [
        "This dataset includes columns such as:\n",
        "\n",
        "- **country:** Name of the country.\n",
        "- **year:** The year of the observation.\n",
        "- **lifeExp**: Life expectancy in years.\n",
        "- **gdpPercap:** GDP per capita.\n",
        "- **pop:** Population size.\n"
      ],
      "metadata": {
        "id": "EOI1eAnMcYJD"
      }
    },
    {
      "cell_type": "markdown",
      "source": [
        "**Step 4: Set Up the Dash Application**\n",
        "\n",
        "Now, we will create a Dash application object. This object will control the flow of the app, its layout, and the interactive elements (like dropdowns)."
      ],
      "metadata": {
        "id": "b74iHU0IcmmO"
      }
    },
    {
      "cell_type": "code",
      "source": [
        "# Initialize the Dash app\n",
        "app = dash.Dash(__name__)"
      ],
      "metadata": {
        "id": "SEOueQmccsB9"
      },
      "execution_count": null,
      "outputs": []
    },
    {
      "cell_type": "markdown",
      "source": [
        "Here, __name__ is passed as the name of the module so that Dash can locate resources (CSS, JS) correctly.\n",
        "\n"
      ],
      "metadata": {
        "id": "QjhZPQGpcvHs"
      }
    },
    {
      "cell_type": "markdown",
      "source": [
        "**Step 5: Create the Layout for the Dashboard**\n",
        "\n",
        "Dash uses a component-based layout. You can think of the layout as the structure of your web page, where you can add HTML components and graphs. We will create two dropdowns and two graphs for our dashboard."
      ],
      "metadata": {
        "id": "dBJARVXJc61L"
      }
    },
    {
      "cell_type": "code",
      "source": [
        "# Define the layout of the app\n",
        "app.layout = html.Div([\n",
        "    html.H1(\"Interactive Data Visualization Dashboard\", style={'text-align': 'center'}),\n",
        "\n",
        "    # Dropdown for selecting the country\n",
        "    dcc.Dropdown(\n",
        "        id=\"selected-country\",\n",
        "        options=[{'label': country, 'value': country} for country in df['country'].unique()],\n",
        "        value='India',  # Default value\n",
        "        multi=False,\n",
        "        style={'width': '50%'}\n",
        "    ),\n",
        "\n",
        "    # Graph for visualizing life expectancy over time\n",
        "    dcc.Graph(id=\"line-chart\"),\n",
        "\n",
        "    # Dropdown for selecting the continent\n",
        "    dcc.Dropdown(\n",
        "        id=\"selected-continent\",\n",
        "        options=[{'label': continent, 'value': continent} for continent in df['continent'].unique()],\n",
        "        value='Asia',  # Default value\n",
        "        multi=False,\n",
        "        style={'width': '50%'}\n",
        "    ),\n",
        "\n",
        "    # Graph for visualizing GDP vs Life Expectancy\n",
        "    dcc.Graph(id=\"scatter-plot\")\n",
        "])"
      ],
      "metadata": {
        "id": "F3W7sXBoc_kz"
      },
      "execution_count": null,
      "outputs": []
    },
    {
      "cell_type": "markdown",
      "source": [
        "**Explanation:**\n",
        "\n",
        "- **html.Div:** A container that holds the layout. We use it to organize all elements vertically.\n",
        "- **html.H1:** A heading element for the dashboard title.\n",
        "- **dcc.Dropdown:** A dropdown component to let users select a country or continent.\n",
        "- **dcc.Graph:** A component to display the graphs."
      ],
      "metadata": {
        "id": "EWD-XCZKdFL5"
      }
    },
    {
      "cell_type": "markdown",
      "source": [
        "**Step 6: Create the Callback Functions for Interactivity**\n",
        "\n",
        "Callbacks in Dash make the dashboard interactive by connecting input (like dropdowns) to outputs (like graphs). Whenever the user changes the dropdown, the callback functions will be triggered to update the graphs."
      ],
      "metadata": {
        "id": "Vif8WAIvdShq"
      }
    },
    {
      "cell_type": "code",
      "source": [
        "# Callback to update the line chart based on selected country\n",
        "@app.callback(\n",
        "    Output('line-chart', 'figure'),\n",
        "    [Input('selected-country', 'value')]\n",
        ")\n",
        "def update_line_chart(selected_country):\n",
        "    # Filter the data for the selected country\n",
        "    filtered_df = df[df['country'] == selected_country]\n",
        "\n",
        "    # Create the line chart\n",
        "    fig = px.line(filtered_df, x=\"year\", y=\"lifeExp\", title=f'Life Expectancy in {selected_country}')\n",
        "    return fig"
      ],
      "metadata": {
        "id": "M_ZUrHGudgVv"
      },
      "execution_count": null,
      "outputs": []
    },
    {
      "cell_type": "markdown",
      "source": [
        "**Explanation:**\n",
        "\n",
        "- The @app.callback decorator connects the dropdown input (selected-country) to the output graph (line-chart).\n",
        "- When a user selects a country, this function is triggered to filter the data and update the graph."
      ],
      "metadata": {
        "id": "AuitD5STdi7u"
      }
    },
    {
      "cell_type": "markdown",
      "source": [
        "**Step 7: Add Another Callback for the Scatter Plot**\n",
        "\n",
        "Similarly, we add another callback to update the scatter plot based on the selected continent."
      ],
      "metadata": {
        "id": "14BDZQUZdyTK"
      }
    },
    {
      "cell_type": "code",
      "source": [
        "# Callback to update the scatter plot based on selected continent\n",
        "@app.callback(\n",
        "    Output('scatter-plot', 'figure'),\n",
        "    [Input('selected-continent', 'value')]\n",
        ")\n",
        "def update_scatter_plot(selected_continent):\n",
        "    # Filter the data for the selected continent\n",
        "    filtered_df = df[df['continent'] == selected_continent]\n",
        "\n",
        "    # Create the scatter plot\n",
        "    fig = px.scatter(filtered_df, x='gdpPercap', y='lifeExp', color='country',\n",
        "                     size='pop', hover_name='country', log_x=True,\n",
        "                     title=f'Life Expectancy and GDP in {selected_continent}')\n",
        "    return fig\n"
      ],
      "metadata": {
        "id": "OQs3mwSyd04u"
      },
      "execution_count": null,
      "outputs": []
    },
    {
      "cell_type": "markdown",
      "source": [
        "**Step 8: Run the App**\n",
        "\n",
        "Now that we have set up the layout and callbacks, we can run the Dash app to make it live."
      ],
      "metadata": {
        "id": "PD-d91Nrd3a5"
      }
    },
    {
      "cell_type": "code",
      "source": [
        "# Run the Dash app\n",
        "if __name__ == '__main__':\n",
        "    app.run_server(debug=True)\n"
      ],
      "metadata": {
        "id": "kOywnao1d9H9"
      },
      "execution_count": null,
      "outputs": []
    },
    {
      "cell_type": "markdown",
      "source": [
        "After running this, Dash will provide a link (e.g., http://127.0.0.1:8050/) to access the interactive dashboard.\n",
        "\n",
        "---"
      ],
      "metadata": {
        "id": "vnqPc43oeOFh"
      }
    },
    {
      "cell_type": "markdown",
      "source": [
        "**Conclusion:**\n",
        "\n",
        "You have successfully created an interactive dashboard using Dash! The dashboard allows users to:\n",
        "\n",
        "- Select a country to visualize life expectancy trends over time.\n",
        "- Choose a continent to explore the relationship between GDP per capita and life expectancy through a scatter plot.\n",
        "\n",
        "This basic dashboard can be extended by adding more features like more interactive controls (sliders, radio buttons), custom styling, or new datasets."
      ],
      "metadata": {
        "id": "SH3wk5tJeGyN"
      }
    },
    {
      "cell_type": "markdown",
      "source": [
        "---"
      ],
      "metadata": {
        "id": "lM-mK1dZcyox"
      }
    },
    {
      "cell_type": "markdown",
      "source": [
        "**Further Readings:**\n",
        "\n",
        "- [Dash Offical Documentation](https://dash.plotly.com/)"
      ],
      "metadata": {
        "id": "ZLguaaLhwsBT"
      }
    }
  ]
}