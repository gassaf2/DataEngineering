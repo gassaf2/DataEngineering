{
 "cells": [
  {
   "cell_type": "markdown",
   "id": "815fb703-265a-46e0-956f-1e46e1464aa9",
   "metadata": {},
   "source": [
    "# Data Engineering\n",
    "\n",
    "*Notebook 1.1: Data Visualization Libraries*\n",
    "\n",
    "<a href=\"https://github.com/gassaf2/AA1614_assaf/blob/main/Notebook1.1_DataVisualizationLibraries.ipynb\" target=\"_parent\"><img src=\"https://colab.research.google.com/assets/colab-badge.svg\" alt=\"Open In Colab\"/></a>\n",
    "\n",
    "*This notebook contains an excerpt from the [Python Data Science Handbook](http://shop.oreilly.com/product/0636920034919.do) by Jake VanderPlas; *\n",
    "\n",
    "*The text is released under the [CC-BY-NC-ND license](https://creativecommons.org/licenses/by-nc-nd/3.0/us/legalcode), and code is released under the [MIT license](https://opensource.org/licenses/MIT). If you find this content useful, please consider supporting the work by [buying the book](http://shop.oreilly.com/product/0636920034919.do)!*"
   ]
  },
  {
   "cell_type": "code",
   "execution_count": 1,
   "id": "0add049a-e18c-4e0c-98fb-60a33406d17d",
   "metadata": {},
   "outputs": [
    {
     "name": "stderr",
     "output_type": "stream",
     "text": [
      "C:\\Users\\gassaf\\AppData\\Local\\Temp\\ipykernel_1144\\3420165411.py:2: UserWarning: \n",
      "The dash_core_components package is deprecated. Please replace\n",
      "`import dash_core_components as dcc` with `from dash import dcc`\n",
      "  import dash_core_components as dcc\n",
      "C:\\Users\\gassaf\\AppData\\Local\\Temp\\ipykernel_1144\\3420165411.py:3: UserWarning: \n",
      "The dash_html_components package is deprecated. Please replace\n",
      "`import dash_html_components as html` with `from dash import html`\n",
      "  import dash_html_components as html\n"
     ]
    }
   ],
   "source": [
    "import dash\n",
    "import dash_core_components as dcc\n",
    "import dash_html_components as html\n",
    "from dash.dependencies import Input, Output\n",
    "import plotly.express as px\n",
    "import pandas as pd"
   ]
  },
  {
   "cell_type": "markdown",
   "id": "5e013370-7634-48c0-b1c2-d0a7ca2e53c8",
   "metadata": {},
   "source": [
    "# Load dataset"
   ]
  },
  {
   "cell_type": "code",
   "execution_count": 2,
   "id": "cf7e689e-6fe5-4504-96cb-f0589dec481d",
   "metadata": {},
   "outputs": [
    {
     "data": {
      "text/html": [
       "<div>\n",
       "<style scoped>\n",
       "    .dataframe tbody tr th:only-of-type {\n",
       "        vertical-align: middle;\n",
       "    }\n",
       "\n",
       "    .dataframe tbody tr th {\n",
       "        vertical-align: top;\n",
       "    }\n",
       "\n",
       "    .dataframe thead th {\n",
       "        text-align: right;\n",
       "    }\n",
       "</style>\n",
       "<table border=\"1\" class=\"dataframe\">\n",
       "  <thead>\n",
       "    <tr style=\"text-align: right;\">\n",
       "      <th></th>\n",
       "      <th>country</th>\n",
       "      <th>continent</th>\n",
       "      <th>year</th>\n",
       "      <th>lifeExp</th>\n",
       "      <th>pop</th>\n",
       "      <th>gdpPercap</th>\n",
       "      <th>iso_alpha</th>\n",
       "      <th>iso_num</th>\n",
       "    </tr>\n",
       "  </thead>\n",
       "  <tbody>\n",
       "    <tr>\n",
       "      <th>0</th>\n",
       "      <td>Afghanistan</td>\n",
       "      <td>Asia</td>\n",
       "      <td>1952</td>\n",
       "      <td>28.801</td>\n",
       "      <td>8425333</td>\n",
       "      <td>779.445314</td>\n",
       "      <td>AFG</td>\n",
       "      <td>4</td>\n",
       "    </tr>\n",
       "    <tr>\n",
       "      <th>1</th>\n",
       "      <td>Afghanistan</td>\n",
       "      <td>Asia</td>\n",
       "      <td>1957</td>\n",
       "      <td>30.332</td>\n",
       "      <td>9240934</td>\n",
       "      <td>820.853030</td>\n",
       "      <td>AFG</td>\n",
       "      <td>4</td>\n",
       "    </tr>\n",
       "    <tr>\n",
       "      <th>2</th>\n",
       "      <td>Afghanistan</td>\n",
       "      <td>Asia</td>\n",
       "      <td>1962</td>\n",
       "      <td>31.997</td>\n",
       "      <td>10267083</td>\n",
       "      <td>853.100710</td>\n",
       "      <td>AFG</td>\n",
       "      <td>4</td>\n",
       "    </tr>\n",
       "    <tr>\n",
       "      <th>3</th>\n",
       "      <td>Afghanistan</td>\n",
       "      <td>Asia</td>\n",
       "      <td>1967</td>\n",
       "      <td>34.020</td>\n",
       "      <td>11537966</td>\n",
       "      <td>836.197138</td>\n",
       "      <td>AFG</td>\n",
       "      <td>4</td>\n",
       "    </tr>\n",
       "    <tr>\n",
       "      <th>4</th>\n",
       "      <td>Afghanistan</td>\n",
       "      <td>Asia</td>\n",
       "      <td>1972</td>\n",
       "      <td>36.088</td>\n",
       "      <td>13079460</td>\n",
       "      <td>739.981106</td>\n",
       "      <td>AFG</td>\n",
       "      <td>4</td>\n",
       "    </tr>\n",
       "  </tbody>\n",
       "</table>\n",
       "</div>"
      ],
      "text/plain": [
       "       country continent  year  lifeExp       pop   gdpPercap iso_alpha  \\\n",
       "0  Afghanistan      Asia  1952   28.801   8425333  779.445314       AFG   \n",
       "1  Afghanistan      Asia  1957   30.332   9240934  820.853030       AFG   \n",
       "2  Afghanistan      Asia  1962   31.997  10267083  853.100710       AFG   \n",
       "3  Afghanistan      Asia  1967   34.020  11537966  836.197138       AFG   \n",
       "4  Afghanistan      Asia  1972   36.088  13079460  739.981106       AFG   \n",
       "\n",
       "   iso_num  \n",
       "0        4  \n",
       "1        4  \n",
       "2        4  \n",
       "3        4  \n",
       "4        4  "
      ]
     },
     "execution_count": 2,
     "metadata": {},
     "output_type": "execute_result"
    }
   ],
   "source": [
    "# Load the dataset\n",
    "df = px.data.gapminder()\n",
    "\n",
    "# Display the first few rows of the dataset\n",
    "df.head()"
   ]
  },
  {
   "cell_type": "raw",
   "id": "759b5106-8175-4a07-9131-709a2ce3d589",
   "metadata": {},
   "source": [
    "import seaborn as sns\n",
    "\n",
    "# Load the diamonds dataset (represents sales of diamonds)\n",
    "df = sns.load_dataset('diamonds')\n",
    "\n",
    "# Display the first few rows of the dataset\n",
    "df.head()"
   ]
  },
  {
   "cell_type": "markdown",
   "id": "92cb9fa2-ee27-4ec6-9dd1-84644ca17a74",
   "metadata": {},
   "source": [
    "# Set up the dash application"
   ]
  },
  {
   "cell_type": "code",
   "execution_count": 3,
   "id": "8763d0a0-f827-4199-80f5-1f308c4be9a7",
   "metadata": {},
   "outputs": [],
   "source": [
    "# Initialize the Dash app\n",
    "app = dash.Dash(__name__)"
   ]
  },
  {
   "cell_type": "markdown",
   "id": "2fb88978-458a-4e27-a9fb-bea6194258ca",
   "metadata": {},
   "source": [
    "# Create the layout of the application"
   ]
  },
  {
   "cell_type": "code",
   "execution_count": 4,
   "id": "50d017ca-4c05-49a2-aeac-fb8a2dffc521",
   "metadata": {},
   "outputs": [],
   "source": [
    "# Define the layout of the app\n",
    "app.layout = html.Div([\n",
    "    html.H1(\"Interactive Data Visualization Dashboard\", style={'text-align': 'center'}),\n",
    "    html.H2(\"Dataset:gapminder\", style={'text-align': 'center'}),\n",
    "    # Dropdown for selecting the country\n",
    "    dcc.Dropdown(\n",
    "        id=\"selected-country\",\n",
    "        options=[{'label': country, 'value': country} for country in df['country'].unique()],\n",
    "        value='India',  # Default value\n",
    "        multi=False,\n",
    "        style={'width': '50%'}\n",
    "    ),\n",
    "\n",
    "    # Graph for visualizing life expectancy over time\n",
    "    dcc.Graph(id=\"line-chart\"),\n",
    "\n",
    "dcc.RangeSlider(\n",
    "        id=\"year-range-slider\",\n",
    "        min=1950,\n",
    "        max=2020,\n",
    "        step=1,\n",
    "        marks={year: str(year) for year in range(1950, 2021, 10)},\n",
    "        value=[1970, 2000],  # Default range\n",
    "        tooltip={\"placement\": \"bottom\", \"always_visible\": True},\n",
    "    ),\n",
    "    \n",
    "    dcc.Graph(id=\"line-population\"),\n",
    "    # Dropdown for selecting the continent\n",
    "    dcc.Dropdown(\n",
    "        id=\"selected-continent\",\n",
    "        options=[{'label': continent, 'value': continent} for continent in df['continent'].unique()],\n",
    "        value='Asia',  # Default value\n",
    "        multi=False,\n",
    "        style={'width': '50%'}\n",
    "    ),\n",
    "\n",
    "    \n",
    "\n",
    "    # Graph for visualizing GDP vs Life Expectancy\n",
    "    dcc.Graph(id=\"scatter-plot\")\n",
    "])"
   ]
  },
  {
   "cell_type": "code",
   "execution_count": 5,
   "id": "36fde6b3-40e9-4ee3-811e-31b2b1f8cd9f",
   "metadata": {},
   "outputs": [],
   "source": [
    "# Callback to update the line chart based on selected country\n",
    "@app.callback(\n",
    "    Output('line-chart', 'figure'),\n",
    "    [Input('selected-country', 'value')]\n",
    ")\n",
    "def update_line_chart(selected_country):\n",
    "    # Filter the data for the selected country\n",
    "    filtered_df = df[df['country'] == selected_country]\n",
    "\n",
    "    # Create the line chart\n",
    "    fig = px.line(filtered_df, x=\"year\", y=\"lifeExp\", title=f'Life Expectancy in {selected_country}')\n",
    "    return fig"
   ]
  },
  {
   "cell_type": "code",
   "execution_count": 6,
   "id": "a8e6bc64-9ab1-4cd1-9532-579d9115065d",
   "metadata": {},
   "outputs": [],
   "source": [
    "# Callback to update the population line chart based on selected country and range of year\n",
    "@app.callback(\n",
    "    Output('line-population', 'figure'),\n",
    "    [Input('selected-country', 'value'),\n",
    "    Input(\"year-range-slider\", \"value\")]\n",
    ")\n",
    "def update_line_chart_pop(selected_country,selected_range):\n",
    "    # Filter the data for the selected country\n",
    "    filtered_df = df[df['country'] == selected_country]\n",
    "\n",
    "    #filter the data by the selected year on the slider\n",
    "    filtered_df=filtered_df[(filtered_df[\"year\"] >= selected_range[0]) & (filtered_df[\"year\"] <= selected_range[1])]\n",
    "    # Create the line chart\n",
    "    fig2 = px.line(filtered_df, x=\"year\", y=\"pop\", title=f'Population in {selected_country}')\n",
    "    return fig2"
   ]
  },
  {
   "cell_type": "code",
   "execution_count": 7,
   "id": "15c6556b-8aaa-467d-8f0d-54c2b1e6fdb7",
   "metadata": {},
   "outputs": [],
   "source": [
    "# Callback to update the scatter plot based on selected continent\n",
    "@app.callback(\n",
    "    Output('scatter-plot', 'figure'),\n",
    "    [Input('selected-continent', 'value')]\n",
    ")\n",
    "def update_scatter_plot(selected_continent):\n",
    "    # Filter the data for the selected continent\n",
    "    filtered_df = df[df['continent'] == selected_continent]\n",
    "\n",
    "    # Create the scatter plot\n",
    "    fig = px.scatter(filtered_df, x='gdpPercap', y='lifeExp', color='country',\n",
    "                     size='pop', hover_name='country', log_x=True,\n",
    "                     title=f'Life Expectancy and GDP in {selected_continent}')\n",
    "    return fig"
   ]
  },
  {
   "cell_type": "code",
   "execution_count": 8,
   "id": "073e48d1-36d4-4f0a-8524-9519213b3698",
   "metadata": {},
   "outputs": [
    {
     "data": {
      "text/html": [
       "\n",
       "        <iframe\n",
       "            width=\"100%\"\n",
       "            height=\"650\"\n",
       "            src=\"http://127.0.0.1:8050/\"\n",
       "            frameborder=\"0\"\n",
       "            allowfullscreen\n",
       "            \n",
       "        ></iframe>\n",
       "        "
      ],
      "text/plain": [
       "<IPython.lib.display.IFrame at 0x1e36f14a5f0>"
      ]
     },
     "metadata": {},
     "output_type": "display_data"
    }
   ],
   "source": [
    "# Run the Dash app\n",
    "if __name__ == '__main__':\n",
    "    app.run_server(debug=False)"
   ]
  },
  {
   "cell_type": "code",
   "execution_count": null,
   "id": "5c429c14-ca88-4eb1-ba4a-22c7ae340f66",
   "metadata": {},
   "outputs": [],
   "source": []
  },
  {
   "cell_type": "code",
   "execution_count": null,
   "id": "7c7331b2-bb9b-41b3-a87f-b65bfbb042d0",
   "metadata": {},
   "outputs": [],
   "source": []
  },
  {
   "cell_type": "code",
   "execution_count": null,
   "id": "41c24538-8581-421d-b397-f9b07a924c6d",
   "metadata": {},
   "outputs": [],
   "source": []
  },
  {
   "cell_type": "code",
   "execution_count": null,
   "id": "9023d072-4776-439b-9646-731b4d1e9e11",
   "metadata": {},
   "outputs": [],
   "source": []
  },
  {
   "cell_type": "code",
   "execution_count": null,
   "id": "808b399a-3406-47c3-a819-2f84ad5acee3",
   "metadata": {},
   "outputs": [],
   "source": []
  }
 ],
 "metadata": {
  "kernelspec": {
   "display_name": "Python 3 (ipykernel)",
   "language": "python",
   "name": "python3"
  },
  "language_info": {
   "codemirror_mode": {
    "name": "ipython",
    "version": 3
   },
   "file_extension": ".py",
   "mimetype": "text/x-python",
   "name": "python",
   "nbconvert_exporter": "python",
   "pygments_lexer": "ipython3",
   "version": "3.10.13"
  }
 },
 "nbformat": 4,
 "nbformat_minor": 5
}
