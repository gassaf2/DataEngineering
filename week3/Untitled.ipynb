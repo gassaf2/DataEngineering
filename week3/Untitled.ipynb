{
 "cells": [
  {
   "cell_type": "code",
   "execution_count": 3,
   "id": "6f7e7a68-99e1-462d-9921-4ff844bd1bef",
   "metadata": {},
   "outputs": [
    {
     "name": "stdout",
     "output_type": "stream",
     "text": [
      "DB: sqlite:///C:\\Users\\gassaf/airflow/airflow.db\n",
      "[\u001b[34m2025-02-04T08:43:55.059+0400\u001b[0m] {\u001b[34mmigration.py:\u001b[0m207} INFO\u001b[0m - Context impl SQLiteImpl.\u001b[0m\n",
      "[\u001b[34m2025-02-04T08:43:55.070+0400\u001b[0m] {\u001b[34mmigration.py:\u001b[0m210} INFO\u001b[0m - Will assume non-transactional DDL.\u001b[0m\n",
      "Initialization done\n"
     ]
    },
    {
     "name": "stderr",
     "output_type": "stream",
     "text": [
      "C:\\Users\\gassaf\\.conda\\envs\\conda_lau310\\lib\\site-packages\\airflow\\__init__.py:36: RuntimeWarning: Airflow currently can be run on POSIX-compliant Operating Systems. For development, it is regularly tested on fairly modern Linux Distros and recent versions of macOS. On Windows you can run it via WSL2 (Windows Subsystem for Linux 2) or via Linux Containers. The work to add Windows support is tracked via https://github.com/apache/airflow/issues/10388, but it is not a high priority.\n",
      "  warnings.warn(\n",
      "OSError while attempting to symlink the latest log directory\n",
      "C:\\Users\\gassaf\\.conda\\envs\\conda_lau310\\lib\\site-packages\\airflow\\utils\\providers_configuration_loader.py:55 DeprecationWarning: `db init` is deprecated.  Use `db migrate` instead to migrate the db and/or airflow connections create-default-connections to create the default connections\n",
      "INFO  [alembic.runtime.migration] Context impl SQLiteImpl.\n",
      "INFO  [alembic.runtime.migration] Will assume non-transactional DDL.\n",
      "INFO  [alembic.runtime.migration] Running stamp_revision  -> 5f2621c13b39\n",
      "WARNI [airflow.models.crypto] empty cryptography key - values will not be stored encrypted.\n"
     ]
    }
   ],
   "source": [
    "!airflow db init\n"
   ]
  },
  {
   "cell_type": "code",
   "execution_count": 4,
   "id": "e6fc717d-528c-4604-9ce0-41f538cc5666",
   "metadata": {},
   "outputs": [],
   "source": [
    "import subprocess"
   ]
  },
  {
   "cell_type": "code",
   "execution_count": 5,
   "id": "e9daf190-8607-4d05-ac0d-56f0ff0abf9a",
   "metadata": {},
   "outputs": [],
   "source": [
    "scheduler_process = subprocess.Popen([\"airflow\", \"scheduler\"], stdout=subprocess.PIPE, stderr=subprocess.PIPE)"
   ]
  },
  {
   "cell_type": "code",
   "execution_count": 6,
   "id": "c36653b1-e790-451a-b5b4-4b264329c6f9",
   "metadata": {},
   "outputs": [],
   "source": [
    "webserver_process = subprocess.Popen([\"airflow\", \"webserver\", \"--port\", \"8080\"], stdout=subprocess.PIPE, stderr=subprocess.PIPE)"
   ]
  },
  {
   "cell_type": "code",
   "execution_count": null,
   "id": "8be32415-d468-4c1b-9b18-d3437216b6f3",
   "metadata": {},
   "outputs": [],
   "source": []
  }
 ],
 "metadata": {
  "kernelspec": {
   "display_name": "Python 3 (ipykernel)",
   "language": "python",
   "name": "python3"
  },
  "language_info": {
   "codemirror_mode": {
    "name": "ipython",
    "version": 3
   },
   "file_extension": ".py",
   "mimetype": "text/x-python",
   "name": "python",
   "nbconvert_exporter": "python",
   "pygments_lexer": "ipython3",
   "version": "3.10.13"
  }
 },
 "nbformat": 4,
 "nbformat_minor": 5
}
