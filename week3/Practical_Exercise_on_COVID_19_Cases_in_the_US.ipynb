{
 "cells": [
  {
   "cell_type": "markdown",
   "metadata": {
    "id": "7teoou7IKZ3t"
   },
   "source": [
    "# **Practical Example: Integrating Data from Multiple Sources for COVID-19 Cases in the US**"
   ]
  },
  {
   "cell_type": "markdown",
   "metadata": {
    "id": "uZC_0XiWKkxw"
   },
   "source": [
    "In this exercise, we will walk through a practical example of data integration using the following sources:\n",
    "1.\t**Open Government API:** We’ll use the **USA Facts COVID-19 data API** to fetch COVID-19 case numbers for different states.\n",
    "2.\t**CSV File:** A local CSV file will contain state population data, which will be merged with the COVID-19 case numbers to calculate the number of cases per capita.\n",
    "\n",
    "We’ll use **Pandas** to handle the CSV file, Requests to interact with the API, and **PyMongo** to store the resulting dataset in **MongoDB**.\n"
   ]
  },
  {
   "cell_type": "markdown",
   "metadata": {
    "id": "-HgKCd0OYT4d"
   },
   "source": [
    "**Pre-requisites:**\n",
    "\n",
    "* Basic knowledge of Python.\n",
    "* MongoDB Atlas account (or a local MongoDB instance).\n",
    "* Install the required Python libraries"
   ]
  },
  {
   "cell_type": "markdown",
   "metadata": {
    "id": "D9Ie0hQyLFjI"
   },
   "source": [
    "## **Step 1: Extracting Data from Multiple Sources**"
   ]
  },
  {
   "cell_type": "markdown",
   "metadata": {
    "id": "H7HeHAw2LXnj"
   },
   "source": [
    "**Fetching Data from an API:**\n",
    "\n",
    "APIs are a common source of real-time data. For this example, we’ll fetch COVID-19 case data from the **USA Facts COVID-19 API**.\n",
    "Here’s how to make an API call using Python’s requests library:\n"
   ]
  },
  {
   "cell_type": "code",
   "execution_count": 1,
   "metadata": {
    "id": "rksTu-AuLoC0"
   },
   "outputs": [
    {
     "name": "stdout",
     "output_type": "stream",
     "text": [
      "       date state  positive  probableCases   negative  pending  \\\n",
      "0  20210307    AK     56886            NaN        NaN      NaN   \n",
      "1  20210307    AL    499819       107742.0  1931711.0      NaN   \n",
      "2  20210307    AR    324818        69092.0  2480716.0      NaN   \n",
      "3  20210307    AS         0            NaN     2140.0      NaN   \n",
      "4  20210307    AZ    826454        56519.0  3073010.0      NaN   \n",
      "\n",
      "  totalTestResultsSource  totalTestResults  hospitalizedCurrently  \\\n",
      "0        totalTestsViral           1731628                   33.0   \n",
      "1  totalTestsPeopleViral           2323788                  494.0   \n",
      "2        totalTestsViral           2736442                  335.0   \n",
      "3        totalTestsViral              2140                    NaN   \n",
      "4        totalTestsViral           7908105                  963.0   \n",
      "\n",
      "   hospitalizedCumulative  ...  dataQualityGrade  deathIncrease  \\\n",
      "0                  1293.0  ...              None              0   \n",
      "1                 45976.0  ...              None             -1   \n",
      "2                 14926.0  ...              None             22   \n",
      "3                     NaN  ...              None              0   \n",
      "4                 57907.0  ...              None              5   \n",
      "\n",
      "   hospitalizedIncrease                                      hash  \\\n",
      "0                     0  dc4bccd4bb885349d7e94d6fed058e285d4be164   \n",
      "1                     0  997207b430824ea40b8eb8506c19a93e07bc972e   \n",
      "2                    11  50921aeefba3e30d31623aa495b47fb2ecc72fae   \n",
      "3                     0  f77912d0b80d579fbb6202fa1a90554fc4dc1443   \n",
      "4                    44  0437a7a96f4471666f775e63e86923eb5cbd8cdf   \n",
      "\n",
      "   commercialScore negativeRegularScore negativeScore positiveScore  score  \\\n",
      "0                0                    0             0             0      0   \n",
      "1                0                    0             0             0      0   \n",
      "2                0                    0             0             0      0   \n",
      "3                0                    0             0             0      0   \n",
      "4                0                    0             0             0      0   \n",
      "\n",
      "   grade  \n",
      "0         \n",
      "1         \n",
      "2         \n",
      "3         \n",
      "4         \n",
      "\n",
      "[5 rows x 56 columns]\n"
     ]
    }
   ],
   "source": [
    "import requests\n",
    "import pandas as pd\n",
    "\n",
    "# Define the API endpoint for COVID-19 data by state\n",
    "api_url = \"https://api.covidtracking.com/v1/states/current.json\"\n",
    "\n",
    "# Make a GET request to the API\n",
    "response = requests.get(api_url)\n",
    "\n",
    "# Check if the request was successful\n",
    "if response.status_code == 200:\n",
    "    # Convert the response to a Pandas DataFrame\n",
    "    covid_data = pd.DataFrame(response.json())\n",
    "    print(covid_data.head())\n",
    "else:\n",
    "    print(f\"API request failed with status code {response.status_code}\")\n"
   ]
  },
  {
   "cell_type": "markdown",
   "metadata": {
    "id": "GGkg8ha7LvfK"
   },
   "source": [
    "In this code:\n",
    "\n",
    "•\tWe use *requests.get()* to fetch data from the API.\n",
    "\n",
    "•\tIf the API call is successful *(status code 200)*, the JSON response is converted to a Pandas DataFrame for further manipulation.\n",
    "\n",
    "The resulting DataFrame contains COVID-19 case numbers by state, including fields such as state, positive (number of positive cases), death (number of deaths), and more.\n"
   ]
  },
  {
   "cell_type": "markdown",
   "metadata": {
    "id": "3EgelTaZL2J-"
   },
   "source": [
    "**Reading Data from a CSV File**\n",
    "\n",
    "Now, let’s read the population data from a CSV file. This data will later be merged with the COVID-19 case data to calculate cases per capita. Note that you have to add the CSV file \"state_population.csv\" to your google colab environment before executing the following code.\n",
    "\n",
    "Here’s how to read a CSV file using **Pandas**:\n"
   ]
  },
  {
   "cell_type": "code",
   "execution_count": 3,
   "metadata": {
    "id": "DVWZVDmvMKnr"
   },
   "outputs": [
    {
     "name": "stdout",
     "output_type": "stream",
     "text": [
      "  state  population\n",
      "0    CA    39538223\n",
      "1    TX    29145505\n",
      "2    FL    21538187\n",
      "3    NY    20201249\n",
      "4    PA    13002700\n"
     ]
    }
   ],
   "source": [
    "# Load the state population data from a CSV file\n",
    "population_data = pd.read_csv('./sample_data/state_population.csv')\n",
    "\n",
    "# Display the first few rows of the DataFrame\n",
    "print(population_data.head())\n"
   ]
  },
  {
   "cell_type": "markdown",
   "metadata": {
    "id": "NYUzhKl5QuQg"
   },
   "source": [
    "## **Step 2: Data Transformation**"
   ]
  },
  {
   "cell_type": "markdown",
   "metadata": {
    "id": "iwb107YXTW9G"
   },
   "source": [
    "Once we’ve extracted the data from both sources (API and CSV), we need to transform it. The key transformation here is merging the datasets and calculating cases per capita.\n"
   ]
  },
  {
   "cell_type": "markdown",
   "metadata": {
    "id": "TDyMxOx-Q5ng"
   },
   "source": [
    "**Merging Data from Different Sources**\n",
    "\n",
    "To merge the COVID-19 case data with the population data, we use the common key state. We’ll use Pandas' merge() function for this.\n"
   ]
  },
  {
   "cell_type": "code",
   "execution_count": 4,
   "metadata": {
    "id": "DU5E8lo6TZCR"
   },
   "outputs": [
    {
     "name": "stdout",
     "output_type": "stream",
     "text": [
      "       date state  positive  probableCases   negative  pending  \\\n",
      "0  20210307    CA   3501394            NaN        NaN      NaN   \n",
      "1  20210307    FL   1909209       360372.0  9339038.0   8544.0   \n",
      "2  20210307    NY   1681169            NaN        NaN      NaN   \n",
      "3  20210307    PA    948643       134103.0  3942124.0      NaN   \n",
      "4  20210307    TX   2686818       365961.0        NaN      NaN   \n",
      "\n",
      "     totalTestResultsSource  totalTestResults  hospitalizedCurrently  \\\n",
      "0           totalTestsViral          49646014                 4291.0   \n",
      "1  totalTestEncountersViral          22339182                 3307.0   \n",
      "2  totalTestEncountersViral          39695100                 4789.0   \n",
      "3  totalTestEncountersViral          10681716                 1587.0   \n",
      "4           totalTestsViral          19907384                 4721.0   \n",
      "\n",
      "   hospitalizedCumulative  ...  deathIncrease  hospitalizedIncrease  \\\n",
      "0                     NaN  ...            258                     0   \n",
      "1                 82237.0  ...             66                    92   \n",
      "2                     NaN  ...             59                     0   \n",
      "3                     NaN  ...             32                     0   \n",
      "4                     NaN  ...             84                     0   \n",
      "\n",
      "                                       hash  commercialScore  \\\n",
      "0  63c5c0fd2daef2fb65150e9db486de98ed3f7b72                0   \n",
      "1  e69aca367d15584f4db13bd791804be1b017efc7                0   \n",
      "2  8b1ad6376deb03844d4e5e3f615197da1b3a214e                0   \n",
      "3  cc747d66ac5b93580b1cd7b3f292eb5ee0fb5910                0   \n",
      "4  3fcdc4c2d3b36a167a791fa8677cf5d19ca67464                0   \n",
      "\n",
      "   negativeRegularScore negativeScore positiveScore score  grade  population  \n",
      "0                     0             0             0     0           39538223  \n",
      "1                     0             0             0     0           21538187  \n",
      "2                     0             0             0     0           20201249  \n",
      "3                     0             0             0     0           13002700  \n",
      "4                     0             0             0     0           29145505  \n",
      "\n",
      "[5 rows x 57 columns]\n"
     ]
    }
   ],
   "source": [
    "# Merge the COVID-19 case data with the population data\n",
    "merged_data = pd.merge(covid_data, population_data, left_on='state', right_on='state')\n",
    "\n",
    "# Display the merged data\n",
    "print(merged_data.head())\n"
   ]
  },
  {
   "cell_type": "markdown",
   "metadata": {
    "id": "HYuedDZ0Td8g"
   },
   "source": [
    "This will create a DataFrame that contains both COVID-19 case data and population for each state."
   ]
  },
  {
   "cell_type": "markdown",
   "metadata": {
    "id": "_ysxmGP5TyF0"
   },
   "source": [
    "**Calculating Cases Per Capita**\n",
    "\n",
    "Now that the data is merged, we can perform a transformation to calculate the number of cases per capita (cases per 100,000 people).\n"
   ]
  },
  {
   "cell_type": "code",
   "execution_count": 5,
   "metadata": {
    "id": "WLdcvarwT2s9"
   },
   "outputs": [
    {
     "name": "stdout",
     "output_type": "stream",
     "text": [
      "  state  positive  population  cases_per_capita\n",
      "0    CA   3501394    39538223       8855.719186\n",
      "1    FL   1909209    21538187       8864.297631\n",
      "2    NY   1681169    20201249       8322.104242\n",
      "3    PA    948643    13002700       7295.738577\n",
      "4    TX   2686818    29145505       9218.635944\n"
     ]
    }
   ],
   "source": [
    "# Calculate cases per capita (cases per 100,000 people)\n",
    "merged_data['cases_per_capita'] = (merged_data['positive'] / merged_data['population']) * 100000\n",
    "\n",
    "# Display the updated DataFrame\n",
    "print(merged_data[['state', 'positive', 'population', 'cases_per_capita']].head())"
   ]
  },
  {
   "cell_type": "markdown",
   "metadata": {
    "id": "GN2uKnulUAGJ"
   },
   "source": [
    "This transformation adds a new column cases_per_capita that gives a normalized view of the number of COVID-19 cases relative to the state’s population.\n"
   ]
  },
  {
   "cell_type": "markdown",
   "metadata": {
    "id": "ZBhF-KTXXFwf"
   },
   "source": [
    "**Loading the Integrated Data into MongoDB**\n",
    "\n",
    "Finally, load the integrated dataset into a MongoDB collection for storage.\n",
    "\n",
    "Ensure you have MongoDB running locally or use MongoDB Atlas. Connect to MongoDB using PyMongo.\n"
   ]
  },
  {
   "cell_type": "code",
   "execution_count": null,
   "metadata": {
    "id": "slyv8m9tXN1c"
   },
   "outputs": [],
   "source": [
    "from pymongo import MongoClient\n",
    "\n",
    "# Connect to MongoDB\n",
    "client = MongoClient('mongodb://localhost:27017/')\n",
    "db = client['MongoDB_db']\n",
    "\n",
    "# Insert the integrated data into MongoDB\n",
    "db.covid_data.insert_many(merged_data.to_dict('records'))\n",
    "\n",
    "print(\"Data loaded into MongoDB successfully!\")\n"
   ]
  },
  {
   "cell_type": "markdown",
   "metadata": {
    "id": "PZhZ1JPRUBe3"
   },
   "source": [
    "# **Congratulations on completing this practical exercise!**"
   ]
  }
 ],
 "metadata": {
  "colab": {
   "provenance": []
  },
  "kernelspec": {
   "display_name": "Python 3 (ipykernel)",
   "language": "python",
   "name": "python3"
  },
  "language_info": {
   "codemirror_mode": {
    "name": "ipython",
    "version": 3
   },
   "file_extension": ".py",
   "mimetype": "text/x-python",
   "name": "python",
   "nbconvert_exporter": "python",
   "pygments_lexer": "ipython3",
   "version": "3.10.13"
  }
 },
 "nbformat": 4,
 "nbformat_minor": 4
}
