{
  "nbformat": 4,
  "nbformat_minor": 0,
  "metadata": {
    "colab": {
      "provenance": []
    },
    "kernelspec": {
      "name": "python3",
      "display_name": "Python 3"
    },
    "language_info": {
      "name": "python"
    }
  },
  "cells": [
    {
      "cell_type": "markdown",
      "source": [
        "# **Practical Example: Integrating Data from Multiple Sources for COVID-19 Cases in the US**"
      ],
      "metadata": {
        "id": "7teoou7IKZ3t"
      }
    },
    {
      "cell_type": "markdown",
      "source": [
        "In this exercise, we will walk through a practical example of data integration using the following sources:\n",
        "1.\t**Open Government API:** We’ll use the **USA Facts COVID-19 data API** to fetch COVID-19 case numbers for different states.\n",
        "2.\t**CSV File:** A local CSV file will contain state population data, which will be merged with the COVID-19 case numbers to calculate the number of cases per capita.\n",
        "\n",
        "We’ll use **Pandas** to handle the CSV file, Requests to interact with the API, and **PyMongo** to store the resulting dataset in **MongoDB**.\n"
      ],
      "metadata": {
        "id": "uZC_0XiWKkxw"
      }
    },
    {
      "cell_type": "markdown",
      "source": [
        "**Pre-requisites:**\n",
        "\n",
        "* Basic knowledge of Python.\n",
        "* MongoDB Atlas account (or a local MongoDB instance).\n",
        "* Install the required Python libraries"
      ],
      "metadata": {
        "id": "-HgKCd0OYT4d"
      }
    },
    {
      "cell_type": "markdown",
      "source": [
        "## **Step 1: Extracting Data from Multiple Sources**"
      ],
      "metadata": {
        "id": "D9Ie0hQyLFjI"
      }
    },
    {
      "cell_type": "markdown",
      "source": [
        "**Fetching Data from an API:**\n",
        "\n",
        "APIs are a common source of real-time data. For this example, we’ll fetch COVID-19 case data from the **USA Facts COVID-19 API**.\n",
        "Here’s how to make an API call using Python’s requests library:\n"
      ],
      "metadata": {
        "id": "H7HeHAw2LXnj"
      }
    },
    {
      "cell_type": "code",
      "source": [
        "import requests\n",
        "import pandas as pd\n",
        "\n",
        "# Define the API endpoint for COVID-19 data by state\n",
        "api_url = \"https://api.covidtracking.com/v1/states/current.json\"\n",
        "\n",
        "# Make a GET request to the API\n",
        "response = requests.get(api_url)\n",
        "\n",
        "# Check if the request was successful\n",
        "if response.status_code == 200:\n",
        "    # Convert the response to a Pandas DataFrame\n",
        "    covid_data = pd.DataFrame(response.json())\n",
        "    print(covid_data.head())\n",
        "else:\n",
        "    print(f\"API request failed with status code {response.status_code}\")\n"
      ],
      "metadata": {
        "id": "rksTu-AuLoC0"
      },
      "execution_count": null,
      "outputs": []
    },
    {
      "cell_type": "markdown",
      "source": [
        "In this code:\n",
        "\n",
        "•\tWe use *requests.get()* to fetch data from the API.\n",
        "\n",
        "•\tIf the API call is successful *(status code 200)*, the JSON response is converted to a Pandas DataFrame for further manipulation.\n",
        "\n",
        "The resulting DataFrame contains COVID-19 case numbers by state, including fields such as state, positive (number of positive cases), death (number of deaths), and more.\n"
      ],
      "metadata": {
        "id": "GGkg8ha7LvfK"
      }
    },
    {
      "cell_type": "markdown",
      "source": [
        "**Reading Data from a CSV File**\n",
        "\n",
        "Now, let’s read the population data from a CSV file. This data will later be merged with the COVID-19 case data to calculate cases per capita. Note that you have to add the CSV file \"state_population.csv\" to your google colab environment before executing the following code.\n",
        "\n",
        "Here’s how to read a CSV file using **Pandas**:\n"
      ],
      "metadata": {
        "id": "3EgelTaZL2J-"
      }
    },
    {
      "cell_type": "code",
      "source": [
        "# Load the state population data from a CSV file\n",
        "population_data = pd.read_csv('state_population.csv')\n",
        "\n",
        "# Display the first few rows of the DataFrame\n",
        "print(population_data.head())\n"
      ],
      "metadata": {
        "id": "DVWZVDmvMKnr"
      },
      "execution_count": null,
      "outputs": []
    },
    {
      "cell_type": "markdown",
      "source": [
        "## **Step 2: Data Transformation**"
      ],
      "metadata": {
        "id": "NYUzhKl5QuQg"
      }
    },
    {
      "cell_type": "markdown",
      "source": [
        "Once we’ve extracted the data from both sources (API and CSV), we need to transform it. The key transformation here is merging the datasets and calculating cases per capita.\n"
      ],
      "metadata": {
        "id": "iwb107YXTW9G"
      }
    },
    {
      "cell_type": "markdown",
      "source": [
        "**Merging Data from Different Sources**\n",
        "\n",
        "To merge the COVID-19 case data with the population data, we use the common key state. We’ll use Pandas' merge() function for this.\n"
      ],
      "metadata": {
        "id": "TDyMxOx-Q5ng"
      }
    },
    {
      "cell_type": "code",
      "source": [
        "# Merge the COVID-19 case data with the population data\n",
        "merged_data = pd.merge(covid_data, population_data, left_on='state', right_on='state')\n",
        "\n",
        "# Display the merged data\n",
        "print(merged_data.head())\n"
      ],
      "metadata": {
        "id": "DU5E8lo6TZCR"
      },
      "execution_count": null,
      "outputs": []
    },
    {
      "cell_type": "markdown",
      "source": [
        "This will create a DataFrame that contains both COVID-19 case data and population for each state."
      ],
      "metadata": {
        "id": "HYuedDZ0Td8g"
      }
    },
    {
      "cell_type": "markdown",
      "source": [
        "**Calculating Cases Per Capita**\n",
        "\n",
        "Now that the data is merged, we can perform a transformation to calculate the number of cases per capita (cases per 100,000 people).\n"
      ],
      "metadata": {
        "id": "_ysxmGP5TyF0"
      }
    },
    {
      "cell_type": "code",
      "source": [
        "# Calculate cases per capita (cases per 100,000 people)\n",
        "merged_data['cases_per_capita'] = (merged_data['positive'] / merged_data['population']) * 100000\n",
        "\n",
        "# Display the updated DataFrame\n",
        "print(merged_data[['state', 'positive', 'population', 'cases_per_capita']].head())"
      ],
      "metadata": {
        "id": "WLdcvarwT2s9"
      },
      "execution_count": null,
      "outputs": []
    },
    {
      "cell_type": "markdown",
      "source": [
        "This transformation adds a new column cases_per_capita that gives a normalized view of the number of COVID-19 cases relative to the state’s population.\n"
      ],
      "metadata": {
        "id": "GN2uKnulUAGJ"
      }
    },
    {
      "cell_type": "markdown",
      "source": [
        "**Loading the Integrated Data into MongoDB**\n",
        "\n",
        "Finally, load the integrated dataset into a MongoDB collection for storage.\n",
        "\n",
        "Ensure you have MongoDB running locally or use MongoDB Atlas. Connect to MongoDB using PyMongo.\n"
      ],
      "metadata": {
        "id": "ZBhF-KTXXFwf"
      }
    },
    {
      "cell_type": "code",
      "source": [
        "from pymongo import MongoClient\n",
        "\n",
        "# Connect to MongoDB\n",
        "client = MongoClient('mongodb://localhost:27017/')\n",
        "db = client['MongoDB_db']\n",
        "\n",
        "# Insert the integrated data into MongoDB\n",
        "db.covid_data.insert_many(merged_data.to_dict('records'))\n",
        "\n",
        "print(\"Data loaded into MongoDB successfully!\")\n"
      ],
      "metadata": {
        "id": "slyv8m9tXN1c"
      },
      "execution_count": null,
      "outputs": []
    },
    {
      "cell_type": "markdown",
      "source": [
        "# **Congratulations on completing this practical exercise!**"
      ],
      "metadata": {
        "id": "PZhZ1JPRUBe3"
      }
    }
  ]
}