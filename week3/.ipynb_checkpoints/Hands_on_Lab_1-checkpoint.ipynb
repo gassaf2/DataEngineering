{
 "cells": [
  {
   "cell_type": "markdown",
   "metadata": {
    "id": "br0Qd7WyYBcq"
   },
   "source": [
    "# **Week 1 Hands-on Lab: Data Visualization using Dash**\n",
    "\n",
    "\n"
   ]
  },
  {
   "cell_type": "markdown",
   "metadata": {
    "id": "DGSzwClYbFQ7"
   },
   "source": [
    "**Introduction**\n",
    "This notebook will guide you through building an interactive dashboard using the Python Dash framework. Dash allows you to create interactive, web-based visualizations, integrating charts and graphs with user inputs like dropdowns and sliders.\n",
    "\n",
    "We will:\n",
    "- Use the Gapminder dataset, which tracks global life expectancy, GDP, and population data across countries and years.\n",
    "- Create a dynamic dashboard that allows users to explore this data interactively.\n",
    "\n",
    "Let's get started!\n",
    "\n",
    "---"
   ]
  },
  {
   "cell_type": "markdown",
   "metadata": {
    "id": "Z4TcZkeSbNOo"
   },
   "source": [
    "**Step 1: Install Required Libraries**\n",
    "To begin, we need to install the necessary Python libraries for our project. These include:\n",
    "- **Dash**: The core library for building interactive web applications.\n",
    "- **Dash Bootstrap Components**: An optional library to style the layout (provides pre-built styles).\n",
    "- **Plotly**: A powerful data visualization library used to create interactive plots.\n",
    "- **Pandas**: Used for data manipulation and analysis.\n",
    "\n",
    "Run the following code to install these libraries:"
   ]
  },
  {
   "cell_type": "code",
   "execution_count": 1,
   "metadata": {
    "colab": {
     "base_uri": "https://localhost:8080/"
    },
    "id": "trc-Avg_bUc4",
    "outputId": "9bc71967-ef21-4c1e-dd26-d269606b2c55"
   },
   "outputs": [
    {
     "name": "stdout",
     "output_type": "stream",
     "text": [
      "Requirement already satisfied: dash in c:\\users\\gassaf\\.conda\\envs\\conda_lau310\\lib\\site-packages (2.18.2)\n",
      "Collecting dash-bootstrap-components\n",
      "  Downloading dash_bootstrap_components-1.7.1-py3-none-any.whl.metadata (17 kB)\n",
      "Requirement already satisfied: pandas in c:\\users\\gassaf\\.conda\\envs\\conda_lau310\\lib\\site-packages (2.2.0)\n",
      "Requirement already satisfied: plotly in c:\\users\\gassaf\\.conda\\envs\\conda_lau310\\lib\\site-packages (5.18.0)\n",
      "Requirement already satisfied: Flask<3.1,>=1.0.4 in c:\\users\\gassaf\\.conda\\envs\\conda_lau310\\lib\\site-packages (from dash) (3.0.3)\n",
      "Requirement already satisfied: Werkzeug<3.1 in c:\\users\\gassaf\\.conda\\envs\\conda_lau310\\lib\\site-packages (from dash) (3.0.1)\n",
      "Requirement already satisfied: dash-html-components==2.0.0 in c:\\users\\gassaf\\.conda\\envs\\conda_lau310\\lib\\site-packages (from dash) (2.0.0)\n",
      "Requirement already satisfied: dash-core-components==2.0.0 in c:\\users\\gassaf\\.conda\\envs\\conda_lau310\\lib\\site-packages (from dash) (2.0.0)\n",
      "Requirement already satisfied: dash-table==5.0.0 in c:\\users\\gassaf\\.conda\\envs\\conda_lau310\\lib\\site-packages (from dash) (5.0.0)\n",
      "Requirement already satisfied: importlib-metadata in c:\\users\\gassaf\\.conda\\envs\\conda_lau310\\lib\\site-packages (from dash) (6.11.0)\n",
      "Requirement already satisfied: typing-extensions>=4.1.1 in c:\\users\\gassaf\\.conda\\envs\\conda_lau310\\lib\\site-packages (from dash) (4.9.0)\n",
      "Requirement already satisfied: requests in c:\\users\\gassaf\\.conda\\envs\\conda_lau310\\lib\\site-packages (from dash) (2.31.0)\n",
      "Requirement already satisfied: retrying in c:\\users\\gassaf\\.conda\\envs\\conda_lau310\\lib\\site-packages (from dash) (1.3.4)\n",
      "Requirement already satisfied: nest-asyncio in c:\\users\\gassaf\\.conda\\envs\\conda_lau310\\lib\\site-packages (from dash) (1.5.6)\n",
      "Requirement already satisfied: setuptools in c:\\users\\gassaf\\appdata\\roaming\\python\\python310\\site-packages (from dash) (70.0.0)\n",
      "Requirement already satisfied: numpy<2,>=1.22.4 in c:\\users\\gassaf\\.conda\\envs\\conda_lau310\\lib\\site-packages (from pandas) (1.26.4)\n",
      "Requirement already satisfied: python-dateutil>=2.8.2 in c:\\users\\gassaf\\.conda\\envs\\conda_lau310\\lib\\site-packages (from pandas) (2.8.2)\n",
      "Requirement already satisfied: pytz>=2020.1 in c:\\users\\gassaf\\.conda\\envs\\conda_lau310\\lib\\site-packages (from pandas) (2023.3.post1)\n",
      "Requirement already satisfied: tzdata>=2022.7 in c:\\users\\gassaf\\.conda\\envs\\conda_lau310\\lib\\site-packages (from pandas) (2023.4)\n",
      "Requirement already satisfied: tenacity>=6.2.0 in c:\\users\\gassaf\\.conda\\envs\\conda_lau310\\lib\\site-packages (from plotly) (8.2.3)\n",
      "Requirement already satisfied: packaging in c:\\users\\gassaf\\.conda\\envs\\conda_lau310\\lib\\site-packages (from plotly) (23.2)\n",
      "Requirement already satisfied: Jinja2>=3.1.2 in c:\\users\\gassaf\\.conda\\envs\\conda_lau310\\lib\\site-packages (from Flask<3.1,>=1.0.4->dash) (3.1.3)\n",
      "Requirement already satisfied: itsdangerous>=2.1.2 in c:\\users\\gassaf\\.conda\\envs\\conda_lau310\\lib\\site-packages (from Flask<3.1,>=1.0.4->dash) (2.2.0)\n",
      "Requirement already satisfied: click>=8.1.3 in c:\\users\\gassaf\\.conda\\envs\\conda_lau310\\lib\\site-packages (from Flask<3.1,>=1.0.4->dash) (8.1.7)\n",
      "Requirement already satisfied: blinker>=1.6.2 in c:\\users\\gassaf\\.conda\\envs\\conda_lau310\\lib\\site-packages (from Flask<3.1,>=1.0.4->dash) (1.8.2)\n",
      "Requirement already satisfied: six>=1.5 in c:\\users\\gassaf\\.conda\\envs\\conda_lau310\\lib\\site-packages (from python-dateutil>=2.8.2->pandas) (1.16.0)\n",
      "Requirement already satisfied: MarkupSafe>=2.1.1 in c:\\users\\gassaf\\.conda\\envs\\conda_lau310\\lib\\site-packages (from Werkzeug<3.1->dash) (2.1.3)\n",
      "Requirement already satisfied: zipp>=0.5 in c:\\users\\gassaf\\.conda\\envs\\conda_lau310\\lib\\site-packages (from importlib-metadata->dash) (3.17.0)\n",
      "Requirement already satisfied: charset-normalizer<4,>=2 in c:\\users\\gassaf\\.conda\\envs\\conda_lau310\\lib\\site-packages (from requests->dash) (2.0.4)\n",
      "Requirement already satisfied: idna<4,>=2.5 in c:\\users\\gassaf\\.conda\\envs\\conda_lau310\\lib\\site-packages (from requests->dash) (3.4)\n",
      "Requirement already satisfied: urllib3<3,>=1.21.1 in c:\\users\\gassaf\\.conda\\envs\\conda_lau310\\lib\\site-packages (from requests->dash) (1.26.18)\n",
      "Requirement already satisfied: certifi>=2017.4.17 in c:\\users\\gassaf\\.conda\\envs\\conda_lau310\\lib\\site-packages (from requests->dash) (2024.2.2)\n",
      "Requirement already satisfied: colorama in c:\\users\\gassaf\\.conda\\envs\\conda_lau310\\lib\\site-packages (from click>=8.1.3->Flask<3.1,>=1.0.4->dash) (0.4.6)\n",
      "Downloading dash_bootstrap_components-1.7.1-py3-none-any.whl (229 kB)\n",
      "   ---------------------------------------- 0.0/229.3 kB ? eta -:--:--\n",
      "   ----- ---------------------------------- 30.7/229.3 kB 1.4 MB/s eta 0:00:01\n",
      "   ---------------------------------------- 229.3/229.3 kB 3.5 MB/s eta 0:00:00\n",
      "Installing collected packages: dash-bootstrap-components\n",
      "Successfully installed dash-bootstrap-components-1.7.1\n"
     ]
    }
   ],
   "source": [
    "!pip install dash dash-bootstrap-components pandas plotly"
   ]
  },
  {
   "cell_type": "markdown",
   "metadata": {
    "id": "w2n6gRvjbex1"
   },
   "source": [
    "**Step 2: Import the Libraries**\n",
    "\n",
    "Next, we'll import the libraries we just installed. These will allow us to load the dataset, build the layout, and create interactive visualizations."
   ]
  },
  {
   "cell_type": "code",
   "execution_count": 10,
   "metadata": {
    "id": "gjbf96vrbouV"
   },
   "outputs": [],
   "source": [
    "import dash\n",
    "import dash_core_components as dcc\n",
    "import dash_html_components as html\n",
    "from dash.dependencies import Input, Output\n",
    "import plotly.express as px\n",
    "import pandas as pd"
   ]
  },
  {
   "cell_type": "markdown",
   "metadata": {
    "id": "eefOpbGtbva5"
   },
   "source": [
    "- dash: Core Dash library for building the app.\n",
    "- dash_core_components and dash_html_components: Used to create interactive controls like dropdowns and HTML elements for the layout.\n",
    "- plotly.express: Simplified interface for creating visualizations.\n",
    "- pandas: For data handling."
   ]
  },
  {
   "cell_type": "markdown",
   "metadata": {
    "id": "fYJ8-rphb8jc"
   },
   "source": [
    "**Step 3: Load the Dataset**\n",
    "\n",
    "For this lab, we will use the **Gapminder dataset**, which contains information about life expectancy, GDP, and population by country across several years.\n",
    "\n",
    "We'll load the data using Pandas and inspect the first few rows.\n",
    "\n"
   ]
  },
  {
   "cell_type": "code",
   "execution_count": 11,
   "metadata": {
    "id": "AoIKpMKZcHVV"
   },
   "outputs": [
    {
     "data": {
      "text/html": [
       "<div>\n",
       "<style scoped>\n",
       "    .dataframe tbody tr th:only-of-type {\n",
       "        vertical-align: middle;\n",
       "    }\n",
       "\n",
       "    .dataframe tbody tr th {\n",
       "        vertical-align: top;\n",
       "    }\n",
       "\n",
       "    .dataframe thead th {\n",
       "        text-align: right;\n",
       "    }\n",
       "</style>\n",
       "<table border=\"1\" class=\"dataframe\">\n",
       "  <thead>\n",
       "    <tr style=\"text-align: right;\">\n",
       "      <th></th>\n",
       "      <th>country</th>\n",
       "      <th>continent</th>\n",
       "      <th>year</th>\n",
       "      <th>lifeExp</th>\n",
       "      <th>pop</th>\n",
       "      <th>gdpPercap</th>\n",
       "      <th>iso_alpha</th>\n",
       "      <th>iso_num</th>\n",
       "    </tr>\n",
       "  </thead>\n",
       "  <tbody>\n",
       "    <tr>\n",
       "      <th>0</th>\n",
       "      <td>Afghanistan</td>\n",
       "      <td>Asia</td>\n",
       "      <td>1952</td>\n",
       "      <td>28.801</td>\n",
       "      <td>8425333</td>\n",
       "      <td>779.445314</td>\n",
       "      <td>AFG</td>\n",
       "      <td>4</td>\n",
       "    </tr>\n",
       "    <tr>\n",
       "      <th>1</th>\n",
       "      <td>Afghanistan</td>\n",
       "      <td>Asia</td>\n",
       "      <td>1957</td>\n",
       "      <td>30.332</td>\n",
       "      <td>9240934</td>\n",
       "      <td>820.853030</td>\n",
       "      <td>AFG</td>\n",
       "      <td>4</td>\n",
       "    </tr>\n",
       "    <tr>\n",
       "      <th>2</th>\n",
       "      <td>Afghanistan</td>\n",
       "      <td>Asia</td>\n",
       "      <td>1962</td>\n",
       "      <td>31.997</td>\n",
       "      <td>10267083</td>\n",
       "      <td>853.100710</td>\n",
       "      <td>AFG</td>\n",
       "      <td>4</td>\n",
       "    </tr>\n",
       "    <tr>\n",
       "      <th>3</th>\n",
       "      <td>Afghanistan</td>\n",
       "      <td>Asia</td>\n",
       "      <td>1967</td>\n",
       "      <td>34.020</td>\n",
       "      <td>11537966</td>\n",
       "      <td>836.197138</td>\n",
       "      <td>AFG</td>\n",
       "      <td>4</td>\n",
       "    </tr>\n",
       "    <tr>\n",
       "      <th>4</th>\n",
       "      <td>Afghanistan</td>\n",
       "      <td>Asia</td>\n",
       "      <td>1972</td>\n",
       "      <td>36.088</td>\n",
       "      <td>13079460</td>\n",
       "      <td>739.981106</td>\n",
       "      <td>AFG</td>\n",
       "      <td>4</td>\n",
       "    </tr>\n",
       "  </tbody>\n",
       "</table>\n",
       "</div>"
      ],
      "text/plain": [
       "       country continent  year  lifeExp       pop   gdpPercap iso_alpha  \\\n",
       "0  Afghanistan      Asia  1952   28.801   8425333  779.445314       AFG   \n",
       "1  Afghanistan      Asia  1957   30.332   9240934  820.853030       AFG   \n",
       "2  Afghanistan      Asia  1962   31.997  10267083  853.100710       AFG   \n",
       "3  Afghanistan      Asia  1967   34.020  11537966  836.197138       AFG   \n",
       "4  Afghanistan      Asia  1972   36.088  13079460  739.981106       AFG   \n",
       "\n",
       "   iso_num  \n",
       "0        4  \n",
       "1        4  \n",
       "2        4  \n",
       "3        4  \n",
       "4        4  "
      ]
     },
     "execution_count": 11,
     "metadata": {},
     "output_type": "execute_result"
    }
   ],
   "source": [
    "# Load the dataset\n",
    "df = px.data.gapminder()\n",
    "\n",
    "# Display the first few rows of the dataset\n",
    "df.head()"
   ]
  },
  {
   "cell_type": "markdown",
   "metadata": {
    "id": "EOI1eAnMcYJD"
   },
   "source": [
    "This dataset includes columns such as:\n",
    "\n",
    "- **country:** Name of the country.\n",
    "- **year:** The year of the observation.\n",
    "- **lifeExp**: Life expectancy in years.\n",
    "- **gdpPercap:** GDP per capita.\n",
    "- **pop:** Population size.\n"
   ]
  },
  {
   "cell_type": "markdown",
   "metadata": {
    "id": "b74iHU0IcmmO"
   },
   "source": [
    "**Step 4: Set Up the Dash Application**\n",
    "\n",
    "Now, we will create a Dash application object. This object will control the flow of the app, its layout, and the interactive elements (like dropdowns)."
   ]
  },
  {
   "cell_type": "code",
   "execution_count": 12,
   "metadata": {
    "id": "SEOueQmccsB9"
   },
   "outputs": [],
   "source": [
    "# Initialize the Dash app\n",
    "app = dash.Dash(__name__)"
   ]
  },
  {
   "cell_type": "markdown",
   "metadata": {
    "id": "QjhZPQGpcvHs"
   },
   "source": [
    "Here, __name__ is passed as the name of the module so that Dash can locate resources (CSS, JS) correctly.\n",
    "\n"
   ]
  },
  {
   "cell_type": "markdown",
   "metadata": {
    "id": "dBJARVXJc61L"
   },
   "source": [
    "**Step 5: Create the Layout for the Dashboard**\n",
    "\n",
    "Dash uses a component-based layout. You can think of the layout as the structure of your web page, where you can add HTML components and graphs. We will create two dropdowns and two graphs for our dashboard."
   ]
  },
  {
   "cell_type": "code",
   "execution_count": 13,
   "metadata": {
    "id": "F3W7sXBoc_kz"
   },
   "outputs": [],
   "source": [
    "# Define the layout of the app\n",
    "app.layout = html.Div([\n",
    "    html.H1(\"Interactive Data Visualization Dashboard\", style={'text-align': 'center'}),\n",
    "\n",
    "    # Dropdown for selecting the country\n",
    "    dcc.Dropdown(\n",
    "        id=\"selected-country\",\n",
    "        options=[{'label': country, 'value': country} for country in df['country'].unique()],\n",
    "        value='India',  # Default value\n",
    "        multi=False,\n",
    "        style={'width': '50%'}\n",
    "    ),\n",
    "\n",
    "    # Graph for visualizing life expectancy over time\n",
    "    dcc.Graph(id=\"line-chart\"),\n",
    "\n",
    "    # Dropdown for selecting the continent\n",
    "    dcc.Dropdown(\n",
    "        id=\"selected-continent\",\n",
    "        options=[{'label': continent, 'value': continent} for continent in df['continent'].unique()],\n",
    "        value='Asia',  # Default value\n",
    "        multi=False,\n",
    "        style={'width': '50%'}\n",
    "    ),\n",
    "\n",
    "    # Graph for visualizing GDP vs Life Expectancy\n",
    "    dcc.Graph(id=\"scatter-plot\")\n",
    "])"
   ]
  },
  {
   "cell_type": "markdown",
   "metadata": {
    "id": "EWD-XCZKdFL5"
   },
   "source": [
    "**Explanation:**\n",
    "\n",
    "- **html.Div:** A container that holds the layout. We use it to organize all elements vertically.\n",
    "- **html.H1:** A heading element for the dashboard title.\n",
    "- **dcc.Dropdown:** A dropdown component to let users select a country or continent.\n",
    "- **dcc.Graph:** A component to display the graphs."
   ]
  },
  {
   "cell_type": "markdown",
   "metadata": {
    "id": "Vif8WAIvdShq"
   },
   "source": [
    "**Step 6: Create the Callback Functions for Interactivity**\n",
    "\n",
    "Callbacks in Dash make the dashboard interactive by connecting input (like dropdowns) to outputs (like graphs). Whenever the user changes the dropdown, the callback functions will be triggered to update the graphs."
   ]
  },
  {
   "cell_type": "code",
   "execution_count": 14,
   "metadata": {
    "id": "M_ZUrHGudgVv"
   },
   "outputs": [],
   "source": [
    "# Callback to update the line chart based on selected country\n",
    "@app.callback(\n",
    "    Output('line-chart', 'figure'),\n",
    "    [Input('selected-country', 'value')]\n",
    ")\n",
    "def update_line_chart(selected_country):\n",
    "    # Filter the data for the selected country\n",
    "    filtered_df = df[df['country'] == selected_country]\n",
    "\n",
    "    # Create the line chart\n",
    "    fig = px.line(filtered_df, x=\"year\", y=\"lifeExp\", title=f'Life Expectancy in {selected_country}')\n",
    "    return fig"
   ]
  },
  {
   "cell_type": "markdown",
   "metadata": {
    "id": "AuitD5STdi7u"
   },
   "source": [
    "**Explanation:**\n",
    "\n",
    "- The @app.callback decorator connects the dropdown input (selected-country) to the output graph (line-chart).\n",
    "- When a user selects a country, this function is triggered to filter the data and update the graph."
   ]
  },
  {
   "cell_type": "markdown",
   "metadata": {
    "id": "14BDZQUZdyTK"
   },
   "source": [
    "**Step 7: Add Another Callback for the Scatter Plot**\n",
    "\n",
    "Similarly, we add another callback to update the scatter plot based on the selected continent."
   ]
  },
  {
   "cell_type": "code",
   "execution_count": 15,
   "metadata": {
    "id": "OQs3mwSyd04u"
   },
   "outputs": [],
   "source": [
    "# Callback to update the scatter plot based on selected continent\n",
    "@app.callback(\n",
    "    Output('scatter-plot', 'figure'),\n",
    "    [Input('selected-continent', 'value')]\n",
    ")\n",
    "def update_scatter_plot(selected_continent):\n",
    "    # Filter the data for the selected continent\n",
    "    filtered_df = df[df['continent'] == selected_continent]\n",
    "\n",
    "    # Create the scatter plot\n",
    "    fig = px.scatter(filtered_df, x='gdpPercap', y='lifeExp', color='country',\n",
    "                     size='pop', hover_name='country', log_x=True,\n",
    "                     title=f'Life Expectancy and GDP in {selected_continent}')\n",
    "    return fig\n"
   ]
  },
  {
   "cell_type": "markdown",
   "metadata": {
    "id": "PD-d91Nrd3a5"
   },
   "source": [
    "**Step 8: Run the App**\n",
    "\n",
    "Now that we have set up the layout and callbacks, we can run the Dash app to make it live."
   ]
  },
  {
   "cell_type": "code",
   "execution_count": 17,
   "metadata": {
    "id": "kOywnao1d9H9"
   },
   "outputs": [
    {
     "ename": "AssertionError",
     "evalue": "The setup method 'errorhandler' can no longer be called on the application. It has already handled its first request, any changes will not be applied consistently.\nMake sure all imports, decorators, functions, etc. needed to set up the application are done before running it.",
     "output_type": "error",
     "traceback": [
      "\u001b[1;31m---------------------------------------------------------------------------\u001b[0m",
      "\u001b[1;31mAssertionError\u001b[0m                            Traceback (most recent call last)",
      "Cell \u001b[1;32mIn[17], line 3\u001b[0m\n\u001b[0;32m      1\u001b[0m \u001b[38;5;66;03m# Run the Dash app\u001b[39;00m\n\u001b[0;32m      2\u001b[0m \u001b[38;5;28;01mif\u001b[39;00m \u001b[38;5;18m__name__\u001b[39m \u001b[38;5;241m==\u001b[39m \u001b[38;5;124m'\u001b[39m\u001b[38;5;124m__main__\u001b[39m\u001b[38;5;124m'\u001b[39m:\n\u001b[1;32m----> 3\u001b[0m     \u001b[43mapp\u001b[49m\u001b[38;5;241;43m.\u001b[39;49m\u001b[43mrun_server\u001b[49m\u001b[43m(\u001b[49m\u001b[43mdebug\u001b[49m\u001b[38;5;241;43m=\u001b[39;49m\u001b[38;5;28;43;01mTrue\u001b[39;49;00m\u001b[43m)\u001b[49m\n",
      "File \u001b[1;32m~\\.conda\\envs\\conda_lau310\\lib\\site-packages\\dash\\dash.py:2287\u001b[0m, in \u001b[0;36mDash.run_server\u001b[1;34m(self, *args, **kwargs)\u001b[0m\n\u001b[0;32m   2277\u001b[0m \u001b[38;5;250m\u001b[39m\u001b[38;5;124;03m\"\"\"`run_server` is a deprecated alias of `run` and may be removed in a\u001b[39;00m\n\u001b[0;32m   2278\u001b[0m \u001b[38;5;124;03mfuture version. We recommend using `app.run` instead.\u001b[39;00m\n\u001b[0;32m   2279\u001b[0m \n\u001b[0;32m   2280\u001b[0m \u001b[38;5;124;03mSee `app.run` for usage information.\u001b[39;00m\n\u001b[0;32m   2281\u001b[0m \u001b[38;5;124;03m\"\"\"\u001b[39;00m\n\u001b[0;32m   2282\u001b[0m warnings\u001b[38;5;241m.\u001b[39mwarn(\n\u001b[0;32m   2283\u001b[0m     \u001b[38;5;167;01mDeprecationWarning\u001b[39;00m(\n\u001b[0;32m   2284\u001b[0m         \u001b[38;5;124m\"\u001b[39m\u001b[38;5;124mDash.run_server is deprecated and will be removed in Dash 3.0\u001b[39m\u001b[38;5;124m\"\u001b[39m\n\u001b[0;32m   2285\u001b[0m     )\n\u001b[0;32m   2286\u001b[0m )\n\u001b[1;32m-> 2287\u001b[0m \u001b[38;5;28mself\u001b[39m\u001b[38;5;241m.\u001b[39mrun(\u001b[38;5;241m*\u001b[39margs, \u001b[38;5;241m*\u001b[39m\u001b[38;5;241m*\u001b[39mkwargs)\n",
      "File \u001b[1;32m~\\.conda\\envs\\conda_lau310\\lib\\site-packages\\dash\\dash.py:2098\u001b[0m, in \u001b[0;36mDash.run\u001b[1;34m(self, host, port, proxy, debug, jupyter_mode, jupyter_width, jupyter_height, jupyter_server_url, dev_tools_ui, dev_tools_props_check, dev_tools_serve_dev_bundles, dev_tools_hot_reload, dev_tools_hot_reload_interval, dev_tools_hot_reload_watch_interval, dev_tools_hot_reload_max_retry, dev_tools_silence_routes_logging, dev_tools_prune_errors, **flask_run_options)\u001b[0m\n\u001b[0;32m   2095\u001b[0m \u001b[38;5;28;01mif\u001b[39;00m debug \u001b[38;5;129;01mis\u001b[39;00m \u001b[38;5;28;01mNone\u001b[39;00m:\n\u001b[0;32m   2096\u001b[0m     debug \u001b[38;5;241m=\u001b[39m get_combined_config(\u001b[38;5;124m\"\u001b[39m\u001b[38;5;124mdebug\u001b[39m\u001b[38;5;124m\"\u001b[39m, \u001b[38;5;28;01mNone\u001b[39;00m, \u001b[38;5;28;01mFalse\u001b[39;00m)\n\u001b[1;32m-> 2098\u001b[0m debug \u001b[38;5;241m=\u001b[39m \u001b[38;5;28;43mself\u001b[39;49m\u001b[38;5;241;43m.\u001b[39;49m\u001b[43menable_dev_tools\u001b[49m\u001b[43m(\u001b[49m\n\u001b[0;32m   2099\u001b[0m \u001b[43m    \u001b[49m\u001b[43mdebug\u001b[49m\u001b[43m,\u001b[49m\n\u001b[0;32m   2100\u001b[0m \u001b[43m    \u001b[49m\u001b[43mdev_tools_ui\u001b[49m\u001b[43m,\u001b[49m\n\u001b[0;32m   2101\u001b[0m \u001b[43m    \u001b[49m\u001b[43mdev_tools_props_check\u001b[49m\u001b[43m,\u001b[49m\n\u001b[0;32m   2102\u001b[0m \u001b[43m    \u001b[49m\u001b[43mdev_tools_serve_dev_bundles\u001b[49m\u001b[43m,\u001b[49m\n\u001b[0;32m   2103\u001b[0m \u001b[43m    \u001b[49m\u001b[43mdev_tools_hot_reload\u001b[49m\u001b[43m,\u001b[49m\n\u001b[0;32m   2104\u001b[0m \u001b[43m    \u001b[49m\u001b[43mdev_tools_hot_reload_interval\u001b[49m\u001b[43m,\u001b[49m\n\u001b[0;32m   2105\u001b[0m \u001b[43m    \u001b[49m\u001b[43mdev_tools_hot_reload_watch_interval\u001b[49m\u001b[43m,\u001b[49m\n\u001b[0;32m   2106\u001b[0m \u001b[43m    \u001b[49m\u001b[43mdev_tools_hot_reload_max_retry\u001b[49m\u001b[43m,\u001b[49m\n\u001b[0;32m   2107\u001b[0m \u001b[43m    \u001b[49m\u001b[43mdev_tools_silence_routes_logging\u001b[49m\u001b[43m,\u001b[49m\n\u001b[0;32m   2108\u001b[0m \u001b[43m    \u001b[49m\u001b[43mdev_tools_prune_errors\u001b[49m\u001b[43m,\u001b[49m\n\u001b[0;32m   2109\u001b[0m \u001b[43m\u001b[49m\u001b[43m)\u001b[49m\n\u001b[0;32m   2111\u001b[0m \u001b[38;5;66;03m# Evaluate the env variables at runtime\u001b[39;00m\n\u001b[0;32m   2113\u001b[0m host \u001b[38;5;241m=\u001b[39m os\u001b[38;5;241m.\u001b[39mgetenv(\u001b[38;5;124m\"\u001b[39m\u001b[38;5;124mHOST\u001b[39m\u001b[38;5;124m\"\u001b[39m, host)\n",
      "File \u001b[1;32m~\\.conda\\envs\\conda_lau310\\lib\\site-packages\\dash\\dash.py:1868\u001b[0m, in \u001b[0;36mDash.enable_dev_tools\u001b[1;34m(self, debug, dev_tools_ui, dev_tools_props_check, dev_tools_serve_dev_bundles, dev_tools_hot_reload, dev_tools_hot_reload_interval, dev_tools_hot_reload_watch_interval, dev_tools_hot_reload_max_retry, dev_tools_silence_routes_logging, dev_tools_prune_errors)\u001b[0m\n\u001b[0;32m   1866\u001b[0m \u001b[38;5;28;01mif\u001b[39;00m debug:\n\u001b[0;32m   1867\u001b[0m     \u001b[38;5;28;01mif\u001b[39;00m jupyter_dash\u001b[38;5;241m.\u001b[39mactive:\n\u001b[1;32m-> 1868\u001b[0m         \u001b[43mjupyter_dash\u001b[49m\u001b[38;5;241;43m.\u001b[39;49m\u001b[43mconfigure_callback_exception_handling\u001b[49m\u001b[43m(\u001b[49m\n\u001b[0;32m   1869\u001b[0m \u001b[43m            \u001b[49m\u001b[38;5;28;43mself\u001b[39;49m\u001b[43m,\u001b[49m\u001b[43m \u001b[49m\u001b[43mdev_tools\u001b[49m\u001b[38;5;241;43m.\u001b[39;49m\u001b[43mprune_errors\u001b[49m\n\u001b[0;32m   1870\u001b[0m \u001b[43m        \u001b[49m\u001b[43m)\u001b[49m\n\u001b[0;32m   1871\u001b[0m     \u001b[38;5;28;01melif\u001b[39;00m dev_tools\u001b[38;5;241m.\u001b[39mprune_errors:\n\u001b[0;32m   1872\u001b[0m         secret \u001b[38;5;241m=\u001b[39m gen_salt(\u001b[38;5;241m20\u001b[39m)\n",
      "File \u001b[1;32m~\\.conda\\envs\\conda_lau310\\lib\\site-packages\\dash\\_jupyter.py:447\u001b[0m, in \u001b[0;36mJupyterDash.configure_callback_exception_handling\u001b[1;34m(self, app, dev_tools_prune_errors)\u001b[0m\n\u001b[0;32m    444\u001b[0m \u001b[38;5;28;01mdef\u001b[39;00m \u001b[38;5;21mconfigure_callback_exception_handling\u001b[39m(\u001b[38;5;28mself\u001b[39m, app, dev_tools_prune_errors):\n\u001b[0;32m    445\u001b[0m \u001b[38;5;250m    \u001b[39m\u001b[38;5;124;03m\"\"\"Install traceback handling for callbacks\"\"\"\u001b[39;00m\n\u001b[1;32m--> 447\u001b[0m     \u001b[38;5;129m@app\u001b[39m\u001b[38;5;241;43m.\u001b[39;49m\u001b[43mserver\u001b[49m\u001b[38;5;241;43m.\u001b[39;49m\u001b[43merrorhandler\u001b[49m\u001b[43m(\u001b[49m\u001b[38;5;167;43;01mException\u001b[39;49;00m\u001b[43m)\u001b[49m\n\u001b[0;32m    448\u001b[0m     \u001b[38;5;28;01mdef\u001b[39;00m \u001b[38;5;21m_wrap_errors\u001b[39m(error):\n\u001b[0;32m    449\u001b[0m         \u001b[38;5;66;03m# Compute number of stack frames to skip to get down to callback\u001b[39;00m\n\u001b[0;32m    450\u001b[0m         skip \u001b[38;5;241m=\u001b[39m _get_skip(error) \u001b[38;5;28;01mif\u001b[39;00m dev_tools_prune_errors \u001b[38;5;28;01melse\u001b[39;00m \u001b[38;5;241m0\u001b[39m\n\u001b[0;32m    452\u001b[0m         \u001b[38;5;66;03m# Customized formatargvalues function we can place function parameters\u001b[39;00m\n\u001b[0;32m    453\u001b[0m         \u001b[38;5;66;03m# on separate lines\u001b[39;00m\n",
      "File \u001b[1;32m~\\.conda\\envs\\conda_lau310\\lib\\site-packages\\flask\\sansio\\scaffold.py:46\u001b[0m, in \u001b[0;36msetupmethod.<locals>.wrapper_func\u001b[1;34m(self, *args, **kwargs)\u001b[0m\n\u001b[0;32m     45\u001b[0m \u001b[38;5;28;01mdef\u001b[39;00m \u001b[38;5;21mwrapper_func\u001b[39m(\u001b[38;5;28mself\u001b[39m: Scaffold, \u001b[38;5;241m*\u001b[39margs: t\u001b[38;5;241m.\u001b[39mAny, \u001b[38;5;241m*\u001b[39m\u001b[38;5;241m*\u001b[39mkwargs: t\u001b[38;5;241m.\u001b[39mAny) \u001b[38;5;241m-\u001b[39m\u001b[38;5;241m>\u001b[39m t\u001b[38;5;241m.\u001b[39mAny:\n\u001b[1;32m---> 46\u001b[0m     \u001b[38;5;28;43mself\u001b[39;49m\u001b[38;5;241;43m.\u001b[39;49m\u001b[43m_check_setup_finished\u001b[49m\u001b[43m(\u001b[49m\u001b[43mf_name\u001b[49m\u001b[43m)\u001b[49m\n\u001b[0;32m     47\u001b[0m     \u001b[38;5;28;01mreturn\u001b[39;00m f(\u001b[38;5;28mself\u001b[39m, \u001b[38;5;241m*\u001b[39margs, \u001b[38;5;241m*\u001b[39m\u001b[38;5;241m*\u001b[39mkwargs)\n",
      "File \u001b[1;32m~\\.conda\\envs\\conda_lau310\\lib\\site-packages\\flask\\sansio\\app.py:415\u001b[0m, in \u001b[0;36mApp._check_setup_finished\u001b[1;34m(self, f_name)\u001b[0m\n\u001b[0;32m    413\u001b[0m \u001b[38;5;28;01mdef\u001b[39;00m \u001b[38;5;21m_check_setup_finished\u001b[39m(\u001b[38;5;28mself\u001b[39m, f_name: \u001b[38;5;28mstr\u001b[39m) \u001b[38;5;241m-\u001b[39m\u001b[38;5;241m>\u001b[39m \u001b[38;5;28;01mNone\u001b[39;00m:\n\u001b[0;32m    414\u001b[0m     \u001b[38;5;28;01mif\u001b[39;00m \u001b[38;5;28mself\u001b[39m\u001b[38;5;241m.\u001b[39m_got_first_request:\n\u001b[1;32m--> 415\u001b[0m         \u001b[38;5;28;01mraise\u001b[39;00m \u001b[38;5;167;01mAssertionError\u001b[39;00m(\n\u001b[0;32m    416\u001b[0m             \u001b[38;5;124mf\u001b[39m\u001b[38;5;124m\"\u001b[39m\u001b[38;5;124mThe setup method \u001b[39m\u001b[38;5;124m'\u001b[39m\u001b[38;5;132;01m{\u001b[39;00mf_name\u001b[38;5;132;01m}\u001b[39;00m\u001b[38;5;124m'\u001b[39m\u001b[38;5;124m can no longer be called\u001b[39m\u001b[38;5;124m\"\u001b[39m\n\u001b[0;32m    417\u001b[0m             \u001b[38;5;124m\"\u001b[39m\u001b[38;5;124m on the application. It has already handled its first\u001b[39m\u001b[38;5;124m\"\u001b[39m\n\u001b[0;32m    418\u001b[0m             \u001b[38;5;124m\"\u001b[39m\u001b[38;5;124m request, any changes will not be applied\u001b[39m\u001b[38;5;124m\"\u001b[39m\n\u001b[0;32m    419\u001b[0m             \u001b[38;5;124m\"\u001b[39m\u001b[38;5;124m consistently.\u001b[39m\u001b[38;5;130;01m\\n\u001b[39;00m\u001b[38;5;124m\"\u001b[39m\n\u001b[0;32m    420\u001b[0m             \u001b[38;5;124m\"\u001b[39m\u001b[38;5;124mMake sure all imports, decorators, functions, etc.\u001b[39m\u001b[38;5;124m\"\u001b[39m\n\u001b[0;32m    421\u001b[0m             \u001b[38;5;124m\"\u001b[39m\u001b[38;5;124m needed to set up the application are done before\u001b[39m\u001b[38;5;124m\"\u001b[39m\n\u001b[0;32m    422\u001b[0m             \u001b[38;5;124m\"\u001b[39m\u001b[38;5;124m running it.\u001b[39m\u001b[38;5;124m\"\u001b[39m\n\u001b[0;32m    423\u001b[0m         )\n",
      "\u001b[1;31mAssertionError\u001b[0m: The setup method 'errorhandler' can no longer be called on the application. It has already handled its first request, any changes will not be applied consistently.\nMake sure all imports, decorators, functions, etc. needed to set up the application are done before running it."
     ]
    }
   ],
   "source": [
    "# Run the Dash app\n",
    "if __name__ == '__main__':\n",
    "    app.run_server(debug=True)\n"
   ]
  },
  {
   "cell_type": "markdown",
   "metadata": {
    "id": "vnqPc43oeOFh"
   },
   "source": [
    "After running this, Dash will provide a link (e.g., http://127.0.0.1:8050/) to access the interactive dashboard.\n",
    "\n",
    "---"
   ]
  },
  {
   "cell_type": "markdown",
   "metadata": {
    "id": "SH3wk5tJeGyN"
   },
   "source": [
    "**Conclusion:**\n",
    "\n",
    "You have successfully created an interactive dashboard using Dash! The dashboard allows users to:\n",
    "\n",
    "- Select a country to visualize life expectancy trends over time.\n",
    "- Choose a continent to explore the relationship between GDP per capita and life expectancy through a scatter plot.\n",
    "\n",
    "This basic dashboard can be extended by adding more features like more interactive controls (sliders, radio buttons), custom styling, or new datasets."
   ]
  },
  {
   "cell_type": "markdown",
   "metadata": {
    "id": "lM-mK1dZcyox"
   },
   "source": [
    "---"
   ]
  },
  {
   "cell_type": "markdown",
   "metadata": {
    "id": "ZLguaaLhwsBT"
   },
   "source": [
    "**Further Readings:**\n",
    "\n",
    "- [Dash Offical Documentation](https://dash.plotly.com/)"
   ]
  }
 ],
 "metadata": {
  "colab": {
   "provenance": []
  },
  "kernelspec": {
   "display_name": "Python 3 (ipykernel)",
   "language": "python",
   "name": "python3"
  },
  "language_info": {
   "codemirror_mode": {
    "name": "ipython",
    "version": 3
   },
   "file_extension": ".py",
   "mimetype": "text/x-python",
   "name": "python",
   "nbconvert_exporter": "python",
   "pygments_lexer": "ipython3",
   "version": "3.10.13"
  }
 },
 "nbformat": 4,
 "nbformat_minor": 4
}
