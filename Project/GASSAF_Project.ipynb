{
 "cells": [
  {
   "cell_type": "markdown",
   "id": "6ef88abe-4b99-4f5d-b6ce-be36391d0c63",
   "metadata": {},
   "source": [
    "# Data Engineering\n",
    "\n",
    "*Notebook 1.1: Data Visualization Libraries*\n",
    "\n",
    "<a href=\"https://colab.research.google.com/github/gassaf2/DataEngineering/blob/main/Project/GASSAF_Project.ipynb\" target=\"_parent\"><img src=\"https://colab.research.google.com/assets/colab-badge.svg\" alt=\"Open In Colab\"/></a>\n",
    "\n",
    "*This notebook contains an excerpt from the [Python Data Science Handbook](http://shop.oreilly.com/product/0636920034919.do) by Jake VanderPlas; *\n",
    "\n",
    "*The text is released under the [CC-BY-NC-ND license](https://creativecommons.org/licenses/by-nc-nd/3.0/us/legalcode), and code is released under the [MIT license](https://opensource.org/licenses/MIT). If you find this content useful, please consider supporting the work by [buying the book](http://shop.oreilly.com/product/0636920034919.do)!*"
   ]
  },
  {
   "cell_type": "code",
   "execution_count": null,
   "id": "63507ac8-7c7f-4595-b387-a4b52e01c71f",
   "metadata": {},
   "outputs": [],
   "source": [
    "#importing libraries\n",
    "import pandas as pd\n",
    "import os\n",
    "import dash\n",
    "import dash_core_components as dcc\n",
    "import dash_html_components as html\n",
    "from dash.dependencies import Input, Output\n",
    "import plotly.express as px\n"
   ]
  },
  {
   "cell_type": "code",
   "execution_count": null,
   "id": "e5ee8d78-4a2a-4119-a852-2ca5ecba9157",
   "metadata": {},
   "outputs": [],
   "source": [
    "sales_data=pd.read_csv(\"./sales_data.csv\")\n",
    "sales_data.head()"
   ]
  },
  {
   "cell_type": "code",
   "execution_count": null,
   "id": "44ecc24b-c993-4cdf-8200-daf08f288191",
   "metadata": {},
   "outputs": [],
   "source": [
    "# Calculate basic statistics\n",
    "total_sales = sales_data[\"sales amount\"].sum()\n",
    "\n",
    "# Sales by location\n",
    "sales_by_location = sales_data.groupby(\"store location\")[\"sales amount\"].sum()\n",
    "\n",
    "# Sales by product\n",
    "sales_by_product = sales_data.groupby(\"product id\")[\"sales amount\"].sum()\n",
    "\n",
    "# Display the results\n",
    "print(f\"Total Sales Amount: {total_sales}\")\n",
    "print(\"\\nSales by Location:\")\n",
    "print(sales_by_location)\n",
    "print(\"\\nSales by Product:\")\n",
    "print(sales_by_product)"
   ]
  },
  {
   "cell_type": "raw",
   "id": "4388992e-e09d-4990-ae12-f795e38a9485",
   "metadata": {},
   "source": [
    "category=\"product id\"\n",
    "filtered_sales_data = sales_data.groupby(category)[\"sales amount\"].sum().reset_index()\n",
    "filtered_sales_data\n",
    "# Create bar chart\n",
    "fig = px.bar(filtered_sales_data, x=\"product id\", y=\"sales amount\", title=\"Sales Amount by Product ID\", \n",
    "             labels={\"Sales Amount\": \"Sales Amount\", \"Product ID\": \"Product ID\"},\n",
    "             color_discrete_sequence=[\"skyblue\"])\n",
    "\n",
    "# Show the figure\n",
    "fig.show()"
   ]
  },
  {
   "cell_type": "markdown",
   "id": "890c60f9-c62c-465e-bf5a-6913f84cc762",
   "metadata": {},
   "source": [
    "# Set up the dash application"
   ]
  },
  {
   "cell_type": "code",
   "execution_count": null,
   "id": "4bbbdd1c-0406-4769-93bd-6f0ded676b49",
   "metadata": {},
   "outputs": [],
   "source": [
    "# Initialize the Dash app\n",
    "app = dash.Dash(__name__)"
   ]
  },
  {
   "cell_type": "markdown",
   "id": "1cb3f207-1744-4002-8d63-5ec3bdaf35a1",
   "metadata": {},
   "source": [
    "# Create the layout of the application"
   ]
  },
  {
   "cell_type": "code",
   "execution_count": null,
   "id": "6f8315f5-af84-4ef5-bf72-5e08571e9a89",
   "metadata": {},
   "outputs": [],
   "source": [
    "# Define the layout of the app\n",
    "app.layout = html.Div([\n",
    "    html.H1(\"Sales Dashboard\", style={'text-align': 'center'}),\n",
    "    html.H2(\"Dataset:Sales Data\", style={'text-align': 'center'}),\n",
    "    # Dropdown for selecting the country\n",
    "  #  dcc.Dropdown(\n",
    "  #      id=\"selected-country\",\n",
    "  #      options=[{'label': country, 'value': country} for country in df['country'].unique()],\n",
    "  #      value='India',  # Default value\n",
    "  #      multi=False,\n",
    "  #      style={'width': '50%'}\n",
    "  #  ),\n",
    "    html.Label(\"Select a Category:\"),\n",
    "    dcc.RadioItems(\n",
    "        id=\"category-selector\",\n",
    "        options=[\n",
    "            {\"label\": \"Store Location\", \"value\": \"store location\"},\n",
    "            {\"label\": \"Product\", \"value\": \"product id\"}\n",
    "        ],\n",
    "        value=\"store location\",\n",
    "        inline=True\n",
    "    ),\n",
    "    # Graph for visualizing life expectancy over time\n",
    "    dcc.Graph(id=\"sales-bar-chart\"),\n",
    "\n",
    "])"
   ]
  },
  {
   "cell_type": "code",
   "execution_count": null,
   "id": "14849d39-6172-4315-81d7-3f7f71c8eebf",
   "metadata": {},
   "outputs": [],
   "source": [
    "# Callback to update the bar chart\n",
    "@app.callback(\n",
    "    Output(\"sales-bar-chart\", \"figure\"),\n",
    "    Input(\"category-selector\", \"value\")\n",
    ")\n",
    "def update_bar_chart(category):\n",
    "    # Group data by the selected category\n",
    "    \n",
    "    #category=\"store location\"\n",
    "    filtered_sales_data = sales_data.groupby(category)[\"sales amount\"].sum().reset_index()\n",
    "\n",
    "    # Create bar chart\n",
    "    fig = px.bar(filtered_sales_data, x=category, y=\"sales amount\", title=f\"Sales Amount by {category}\", \n",
    "             labels={\"Sales Amount\": \"Sales Amount\", \"Product ID\": \"Product ID\"},\n",
    "             color_discrete_sequence=[\"skyblue\"])\n",
    "\n",
    "    # Show the figure\n",
    "    fig.show()\n",
    "    return fig"
   ]
  },
  {
   "cell_type": "code",
   "execution_count": null,
   "id": "ada5bf16-4bb1-4f55-8b8a-e1965f3f8ec7",
   "metadata": {},
   "outputs": [],
   "source": [
    "# Run the app\n",
    "if __name__ == \"__main__\":\n",
    "    app.run_server(debug=False)"
   ]
  },
  {
   "cell_type": "raw",
   "id": "9f31d7a6-917f-4405-9a26-dc98790b2782",
   "metadata": {},
   "source": []
  }
 ],
 "metadata": {
  "kernelspec": {
   "display_name": "Python 3 (ipykernel)",
   "language": "python",
   "name": "python3"
  },
  "language_info": {
   "codemirror_mode": {
    "name": "ipython",
    "version": 3
   },
   "file_extension": ".py",
   "mimetype": "text/x-python",
   "name": "python",
   "nbconvert_exporter": "python",
   "pygments_lexer": "ipython3",
   "version": "3.10.13"
  }
 },
 "nbformat": 4,
 "nbformat_minor": 5
}
