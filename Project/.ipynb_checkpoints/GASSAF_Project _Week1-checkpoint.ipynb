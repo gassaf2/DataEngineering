{
 "cells": [
  {
   "cell_type": "markdown",
   "id": "6ef88abe-4b99-4f5d-b6ce-be36391d0c63",
   "metadata": {},
   "source": [
    "# Data Engineering\n",
    "\n",
    "\n",
    "\n",
    "<a href=\"https://colab.research.google.com/github/gassaf2/DataEngineering/blob/main/Project/GASSAF_Project.ipynb\" target=\"_parent\"><img src=\"https://colab.research.google.com/assets/colab-badge.svg\" alt=\"Open In Colab\"/></a>\n",
    "\n",
    "\n"
   ]
  },
  {
   "cell_type": "code",
   "execution_count": 1,
   "id": "63507ac8-7c7f-4595-b387-a4b52e01c71f",
   "metadata": {},
   "outputs": [
    {
     "name": "stderr",
     "output_type": "stream",
     "text": [
      "C:\\Users\\gassaf\\AppData\\Local\\Temp\\ipykernel_16804\\1306366626.py:5: UserWarning: \n",
      "The dash_core_components package is deprecated. Please replace\n",
      "`import dash_core_components as dcc` with `from dash import dcc`\n",
      "  import dash_core_components as dcc\n",
      "C:\\Users\\gassaf\\AppData\\Local\\Temp\\ipykernel_16804\\1306366626.py:6: UserWarning: \n",
      "The dash_html_components package is deprecated. Please replace\n",
      "`import dash_html_components as html` with `from dash import html`\n",
      "  import dash_html_components as html\n"
     ]
    }
   ],
   "source": [
    "#importing libraries\n",
    "import pandas as pd\n",
    "import os\n",
    "import dash\n",
    "import dash_core_components as dcc\n",
    "import dash_html_components as html\n",
    "from dash.dependencies import Input, Output\n",
    "import plotly.express as px\n"
   ]
  },
  {
   "cell_type": "code",
   "execution_count": 2,
   "id": "e5ee8d78-4a2a-4119-a852-2ca5ecba9157",
   "metadata": {},
   "outputs": [
    {
     "data": {
      "text/html": [
       "<div>\n",
       "<style scoped>\n",
       "    .dataframe tbody tr th:only-of-type {\n",
       "        vertical-align: middle;\n",
       "    }\n",
       "\n",
       "    .dataframe tbody tr th {\n",
       "        vertical-align: top;\n",
       "    }\n",
       "\n",
       "    .dataframe thead th {\n",
       "        text-align: right;\n",
       "    }\n",
       "</style>\n",
       "<table border=\"1\" class=\"dataframe\">\n",
       "  <thead>\n",
       "    <tr style=\"text-align: right;\">\n",
       "      <th></th>\n",
       "      <th>date</th>\n",
       "      <th>product id</th>\n",
       "      <th>sales amount</th>\n",
       "      <th>store location</th>\n",
       "    </tr>\n",
       "  </thead>\n",
       "  <tbody>\n",
       "    <tr>\n",
       "      <th>0</th>\n",
       "      <td>2023-09-01</td>\n",
       "      <td>P001</td>\n",
       "      <td>500</td>\n",
       "      <td>New York</td>\n",
       "    </tr>\n",
       "    <tr>\n",
       "      <th>1</th>\n",
       "      <td>2023-09-02</td>\n",
       "      <td>P002</td>\n",
       "      <td>300</td>\n",
       "      <td>Los Angeles</td>\n",
       "    </tr>\n",
       "    <tr>\n",
       "      <th>2</th>\n",
       "      <td>2023-09-03</td>\n",
       "      <td>P003</td>\n",
       "      <td>450</td>\n",
       "      <td>Chicago</td>\n",
       "    </tr>\n",
       "    <tr>\n",
       "      <th>3</th>\n",
       "      <td>2023-09-01</td>\n",
       "      <td>P003</td>\n",
       "      <td>824</td>\n",
       "      <td>Los Angeles</td>\n",
       "    </tr>\n",
       "    <tr>\n",
       "      <th>4</th>\n",
       "      <td>2023-09-02</td>\n",
       "      <td>P002</td>\n",
       "      <td>671</td>\n",
       "      <td>New York</td>\n",
       "    </tr>\n",
       "  </tbody>\n",
       "</table>\n",
       "</div>"
      ],
      "text/plain": [
       "         date product id  sales amount store location\n",
       "0  2023-09-01       P001           500       New York\n",
       "1  2023-09-02       P002           300    Los Angeles\n",
       "2  2023-09-03       P003           450        Chicago\n",
       "3  2023-09-01       P003           824    Los Angeles\n",
       "4  2023-09-02       P002           671       New York"
      ]
     },
     "execution_count": 2,
     "metadata": {},
     "output_type": "execute_result"
    }
   ],
   "source": [
    "sales_data=pd.read_csv(\"./sample_data/sales_data.csv\")\n",
    "sales_data.head()"
   ]
  },
  {
   "cell_type": "code",
   "execution_count": 3,
   "id": "44ecc24b-c993-4cdf-8200-daf08f288191",
   "metadata": {},
   "outputs": [
    {
     "name": "stdout",
     "output_type": "stream",
     "text": [
      "Total Sales Amount: 112139\n",
      "\n",
      "Sales by Location:\n",
      "store location\n",
      "Chicago        19919\n",
      "Houston        28542\n",
      "Los Angeles    18800\n",
      "Miami          16226\n",
      "New York       28652\n",
      "Name: sales amount, dtype: int64\n",
      "\n",
      "Sales by Product:\n",
      "product id\n",
      "P001    18835\n",
      "P002    26298\n",
      "P003    20829\n",
      "P004    24978\n",
      "P005    21199\n",
      "Name: sales amount, dtype: int64\n"
     ]
    }
   ],
   "source": [
    "# Calculate basic statistics\n",
    "total_sales = sales_data[\"sales amount\"].sum()\n",
    "\n",
    "# Sales by location\n",
    "sales_by_location = sales_data.groupby(\"store location\")[\"sales amount\"].sum()\n",
    "\n",
    "# Sales by product\n",
    "sales_by_product = sales_data.groupby(\"product id\")[\"sales amount\"].sum()\n",
    "\n",
    "# Display the results\n",
    "print(f\"Total Sales Amount: {total_sales}\")\n",
    "print(\"\\nSales by Location:\")\n",
    "print(sales_by_location)\n",
    "print(\"\\nSales by Product:\")\n",
    "print(sales_by_product)"
   ]
  },
  {
   "cell_type": "raw",
   "id": "4388992e-e09d-4990-ae12-f795e38a9485",
   "metadata": {},
   "source": [
    "category=\"product id\"\n",
    "filtered_sales_data = sales_data.groupby(category)[\"sales amount\"].sum().reset_index()\n",
    "filtered_sales_data\n",
    "# Create bar chart\n",
    "fig = px.bar(filtered_sales_data, x=\"product id\", y=\"sales amount\", title=\"Sales Amount by Product ID\", \n",
    "             labels={\"Sales Amount\": \"Sales Amount\", \"Product ID\": \"Product ID\"},\n",
    "             color_discrete_sequence=[\"skyblue\"])\n",
    "\n",
    "# Show the figure\n",
    "fig.show()"
   ]
  },
  {
   "cell_type": "markdown",
   "id": "890c60f9-c62c-465e-bf5a-6913f84cc762",
   "metadata": {},
   "source": [
    "# Set up the dash application"
   ]
  },
  {
   "cell_type": "code",
   "execution_count": 4,
   "id": "4bbbdd1c-0406-4769-93bd-6f0ded676b49",
   "metadata": {},
   "outputs": [],
   "source": [
    "# Initialize the Dash app\n",
    "app = dash.Dash(__name__)"
   ]
  },
  {
   "cell_type": "markdown",
   "id": "1cb3f207-1744-4002-8d63-5ec3bdaf35a1",
   "metadata": {},
   "source": [
    "# Create the layout of the application"
   ]
  },
  {
   "cell_type": "code",
   "execution_count": 5,
   "id": "6f8315f5-af84-4ef5-bf72-5e08571e9a89",
   "metadata": {},
   "outputs": [],
   "source": [
    "# Define the layout of the app\n",
    "app.layout = html.Div([\n",
    "    html.H1(\"Sales Dashboard\", style={'text-align': 'center'}),\n",
    "    html.H2(\"Dataset:Sales Data\", style={'text-align': 'center'}),\n",
    "    # Dropdown for selecting the country\n",
    "  #  dcc.Dropdown(\n",
    "  #      id=\"selected-country\",\n",
    "  #      options=[{'label': country, 'value': country} for country in df['country'].unique()],\n",
    "  #      value='India',  # Default value\n",
    "  #      multi=False,\n",
    "  #      style={'width': '50%'}\n",
    "  #  ),\n",
    "    html.Label(\"Select a Category:\"),\n",
    "    dcc.RadioItems(\n",
    "        id=\"category-selector\",\n",
    "        options=[\n",
    "            {\"label\": \"Store Location\", \"value\": \"store location\"},\n",
    "            {\"label\": \"Product\", \"value\": \"product id\"}\n",
    "        ],\n",
    "        value=\"store location\",\n",
    "        inline=True\n",
    "    ),\n",
    "    # Graph for visualizing life expectancy over time\n",
    "    dcc.Graph(id=\"sales-bar-chart\"),\n",
    "\n",
    "])"
   ]
  },
  {
   "cell_type": "code",
   "execution_count": 6,
   "id": "14849d39-6172-4315-81d7-3f7f71c8eebf",
   "metadata": {},
   "outputs": [],
   "source": [
    "# Callback to update the bar chart\n",
    "@app.callback(\n",
    "    Output(\"sales-bar-chart\", \"figure\"),\n",
    "    Input(\"category-selector\", \"value\")\n",
    ")\n",
    "def update_bar_chart(category):\n",
    "    # Group data by the selected category\n",
    "    \n",
    "    #category=\"store location\"\n",
    "    filtered_sales_data = sales_data.groupby(category)[\"sales amount\"].sum().reset_index()\n",
    "\n",
    "    # Create bar chart\n",
    "    fig = px.bar(filtered_sales_data, x=category, y=\"sales amount\", title=f\"Sales Amount by {category}\", \n",
    "             labels={\"Sales Amount\": \"Sales Amount\", \"Product ID\": \"Product ID\"},\n",
    "             color_discrete_sequence=[\"skyblue\"])\n",
    "\n",
    "    # Show the figure\n",
    "    fig.show()\n",
    "    return fig"
   ]
  },
  {
   "cell_type": "code",
   "execution_count": 7,
   "id": "ada5bf16-4bb1-4f55-8b8a-e1965f3f8ec7",
   "metadata": {},
   "outputs": [
    {
     "data": {
      "text/html": [
       "\n",
       "        <iframe\n",
       "            width=\"100%\"\n",
       "            height=\"650\"\n",
       "            src=\"http://127.0.0.1:8050/\"\n",
       "            frameborder=\"0\"\n",
       "            allowfullscreen\n",
       "            \n",
       "        ></iframe>\n",
       "        "
      ],
      "text/plain": [
       "<IPython.lib.display.IFrame at 0x19994eaaa10>"
      ]
     },
     "metadata": {},
     "output_type": "display_data"
    }
   ],
   "source": [
    "# Run the app\n",
    "if __name__ == \"__main__\":\n",
    "    app.run_server(debug=False)"
   ]
  },
  {
   "cell_type": "raw",
   "id": "9f31d7a6-917f-4405-9a26-dc98790b2782",
   "metadata": {},
   "source": []
  }
 ],
 "metadata": {
  "kernelspec": {
   "display_name": "Python 3 (ipykernel)",
   "language": "python",
   "name": "python3"
  },
  "language_info": {
   "codemirror_mode": {
    "name": "ipython",
    "version": 3
   },
   "file_extension": ".py",
   "mimetype": "text/x-python",
   "name": "python",
   "nbconvert_exporter": "python",
   "pygments_lexer": "ipython3",
   "version": "3.10.13"
  }
 },
 "nbformat": 4,
 "nbformat_minor": 5
}
